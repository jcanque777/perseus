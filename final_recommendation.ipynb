{
 "cells": [
  {
   "cell_type": "markdown",
   "metadata": {},
   "source": [
    "# Imports"
   ]
  },
  {
   "cell_type": "code",
   "execution_count": 6,
   "metadata": {},
   "outputs": [
    {
     "data": {
      "text/html": [
       "<style>.container { width:80% !important; }</style>"
      ],
      "text/plain": [
       "<IPython.core.display.HTML object>"
      ]
     },
     "metadata": {},
     "output_type": "display_data"
    }
   ],
   "source": [
    "import pydotplus\n",
    "import pandas as pd\n",
    "import seaborn as sns\n",
    "import matplotlib.pyplot as plt\n",
    "plt.style.use('seaborn')\n",
    "import sklearn.datasets as datasets\n",
    "import statsmodels.api as sm\n",
    "import re\n",
    "\n",
    "#for wide screens\n",
    "from IPython.core.display import display, HTML\n",
    "from IPython.display import Image\n",
    "display(HTML(\"<style>.container { width:85% !important; }</style>\"))\n",
    "\n",
    "#max columns and rows\n",
    "pd.set_option('display.max_columns', 150)\n",
    "pd.set_option('display.max_rows', 50)\n",
    "\n",
    "#import pickle\n",
    "import pickle\n",
    "\n",
    "#import deep copy\n",
    "import copy\n",
    "from copy import deepcopy\n",
    "\n",
    "#Progress bar\n",
    "from tqdm import tqdm_notebook as tqdm\n",
    "\n",
    "# from annoy import AnnoyIndex\n",
    "\n",
    "# # What is re?\n",
    "# import re\n",
    "\n",
    "import sklearn.model_selection as model_selection\n",
    "\n",
    "from sklearn.model_selection import cross_val_score,train_test_split\n",
    "from sklearn.metrics import accuracy_score , classification_report, confusion_matrix, mean_squared_error, roc_auc_score\n",
    "from sklearn.tree import DecisionTreeClassifier\n",
    "from sklearn.ensemble import BaggingClassifier, BaggingRegressor, RandomForestClassifier, BaggingRegressor, RandomForestRegressor\n",
    "from sklearn.datasets import make_regression\n",
    "\n",
    "from sklearn.linear_model import LinearRegression\n",
    "from sklearn.metrics.pairwise import cosine_similarity\n",
    "from sklearn.feature_extraction.text import CountVectorizer, TfidfTransformer\n",
    "\n",
    "from sklearn.preprocessing import MinMaxScaler\n",
    "\n",
    "from sklearn.svm import SVR\n",
    "\n",
    "from statsmodels.formula.api import ols"
   ]
  },
  {
   "cell_type": "code",
   "execution_count": 536,
   "metadata": {},
   "outputs": [],
   "source": [
    "from selenium import webdriver\n",
    "from selenium.common.exceptions import TimeoutException\n",
    "from selenium.webdriver.common.by import By\n",
    "from selenium.webdriver.common.keys import Keys\n",
    "from selenium.webdriver.support import expected_conditions as EC\n",
    "from selenium.webdriver.support.ui import WebDriverWait\n",
    "from bs4 import BeautifulSoup\n",
    "\n",
    "from selenium import webdriver\n",
    "from selenium.webdriver.support.ui import WebDriverWait\n",
    "from selenium.webdriver.support import expected_conditions as EC\n",
    "from selenium.webdriver.common.by import By\n",
    "from selenium.common.exceptions import TimeoutException"
   ]
  },
  {
   "cell_type": "code",
   "execution_count": 571,
   "metadata": {},
   "outputs": [],
   "source": [
    "#max columns and rows\n",
    "pd.set_option('display.max_columns', 150)\n",
    "pd.set_option('display.max_rows', 400)"
   ]
  },
  {
   "cell_type": "code",
   "execution_count": null,
   "metadata": {},
   "outputs": [],
   "source": []
  },
  {
   "cell_type": "code",
   "execution_count": 30,
   "metadata": {
    "scrolled": true
   },
   "outputs": [
    {
     "data": {
      "text/html": [
       "<style>.container { width:80% !important; }</style>"
      ],
      "text/plain": [
       "<IPython.core.display.HTML object>"
      ]
     },
     "metadata": {},
     "output_type": "display_data"
    }
   ],
   "source": [
    "display(HTML(\"<style>.container { width:80% !important; }</style>\"))"
   ]
  },
  {
   "cell_type": "code",
   "execution_count": null,
   "metadata": {},
   "outputs": [],
   "source": []
  },
  {
   "cell_type": "markdown",
   "metadata": {},
   "source": [
    "# Scrape"
   ]
  },
  {
   "cell_type": "code",
   "execution_count": 11,
   "metadata": {},
   "outputs": [],
   "source": [
    "#This goes throuagh all the watch brands and gets all the names and links\n",
    "driver = webdriver.Chrome() #browser should be named driver in the future, common coding etiquette"
   ]
  },
  {
   "cell_type": "markdown",
   "metadata": {},
   "source": [
    "## Create functions for each item we are trying to find"
   ]
  },
  {
   "cell_type": "code",
   "execution_count": 15,
   "metadata": {},
   "outputs": [],
   "source": [
    "### Create top 20 functions"
   ]
  },
  {
   "cell_type": "code",
   "execution_count": null,
   "metadata": {},
   "outputs": [],
   "source": [
    "\"\"\"\n",
    "turnover_ratio\n",
    "expense ratio\n",
    "\n",
    "net_asset_value\n",
    "share_aum\n",
    "\n",
    "position bond long\n",
    "position bond net\n",
    "position stock long\n",
    "position stock net\n",
    "total return - 1m- 10yr\n",
    "leverage\n",
    "stock style exp - lcblend, \n",
    "stock market cap - giant\n",
    "stock sector exposure- healthcare, energy\n",
    "weighted median ROE\n",
    "div yield ttm real\n",
    "\n",
    "\n",
    "\n",
    "\n",
    "\"\"\""
   ]
  },
  {
   "cell_type": "code",
   "execution_count": 25,
   "metadata": {},
   "outputs": [],
   "source": [
    "keystat1,keystat2 = driver.find_elements_by_class_name('statsCol')"
   ]
  },
  {
   "cell_type": "code",
   "execution_count": 27,
   "metadata": {},
   "outputs": [
    {
     "data": {
      "text/plain": [
       "'Expense Ratio\\n0.59%\\nTotal Assets Under Management\\n55.70B\\nShare Class Assets Under Management\\n11.73B'"
      ]
     },
     "execution_count": 27,
     "metadata": {},
     "output_type": "execute_result"
    }
   ],
   "source": [
    "keystat1.text"
   ]
  },
  {
   "cell_type": "code",
   "execution_count": 29,
   "metadata": {},
   "outputs": [
    {
     "data": {
      "text/plain": [
       "'Net Asset Value\\n4.21\\nTurnover Ratio\\n71.00%\\n1 Year Fund Level Flows\\n12.08B'"
      ]
     },
     "execution_count": 29,
     "metadata": {},
     "output_type": "execute_result"
    }
   ],
   "source": [
    "keystat2.text"
   ]
  },
  {
   "cell_type": "code",
   "execution_count": 49,
   "metadata": {},
   "outputs": [],
   "source": [
    "ks2_nav, ks2_turnover, ks2_1yr_flows = keystat2.find_elements_by_tag_name('tr')"
   ]
  },
  {
   "cell_type": "code",
   "execution_count": 54,
   "metadata": {},
   "outputs": [
    {
     "data": {
      "text/plain": [
       "'Net Asset Value'"
      ]
     },
     "execution_count": 54,
     "metadata": {},
     "output_type": "execute_result"
    }
   ],
   "source": [
    "ks2_nav.find_element_by_class_name('col1').text"
   ]
  },
  {
   "cell_type": "code",
   "execution_count": 55,
   "metadata": {},
   "outputs": [
    {
     "data": {
      "text/plain": [
       "'4.21'"
      ]
     },
     "execution_count": 55,
     "metadata": {},
     "output_type": "execute_result"
    }
   ],
   "source": [
    "ks2_nav.find_element_by_class_name('col2').text"
   ]
  },
  {
   "cell_type": "code",
   "execution_count": 56,
   "metadata": {},
   "outputs": [],
   "source": [
    "features= {}"
   ]
  },
  {
   "cell_type": "code",
   "execution_count": 57,
   "metadata": {},
   "outputs": [
    {
     "data": {
      "text/plain": [
       "[<selenium.webdriver.remote.webelement.WebElement (session=\"87d4acce010d5fc239ce13461f86fcf9\", element=\"a059f2f1-ba0e-4e75-89c6-0584ef4547da\")>,\n",
       " <selenium.webdriver.remote.webelement.WebElement (session=\"87d4acce010d5fc239ce13461f86fcf9\", element=\"2017d104-04b2-49a3-a5c6-10130444e04b\")>]"
      ]
     },
     "execution_count": 57,
     "metadata": {},
     "output_type": "execute_result"
    }
   ],
   "source": [
    "driver.find_elements_by_class_name('statsCol')"
   ]
  },
  {
   "cell_type": "code",
   "execution_count": 60,
   "metadata": {},
   "outputs": [
    {
     "data": {
      "text/plain": [
       "'Expense Ratio'"
      ]
     },
     "execution_count": 60,
     "metadata": {},
     "output_type": "execute_result"
    }
   ],
   "source": [
    "driver.find_elements_by_class_name('statsCol')[0].find_element_by_class_name('col1').text"
   ]
  },
  {
   "cell_type": "code",
   "execution_count": 61,
   "metadata": {},
   "outputs": [
    {
     "data": {
      "text/plain": [
       "'0.59%'"
      ]
     },
     "execution_count": 61,
     "metadata": {},
     "output_type": "execute_result"
    }
   ],
   "source": [
    "driver.find_elements_by_class_name('statsCol')[0].find_element_by_class_name('col2').text"
   ]
  },
  {
   "cell_type": "code",
   "execution_count": 82,
   "metadata": {},
   "outputs": [],
   "source": [
    "soup=BeautifulSoup(driver.page_source, 'lxml')"
   ]
  },
  {
   "cell_type": "code",
   "execution_count": 93,
   "metadata": {
    "scrolled": true
   },
   "outputs": [
    {
     "data": {
      "text/plain": [
       "['\\n', <h2 class=\"sectHed\">Key Stats</h2>, '\\n', <div>\n",
       " <div class=\"statsCol\">\n",
       " <div>\n",
       " <table class=\"statTable\">\n",
       " <tbody>\n",
       " <tr>\n",
       " <td class=\"col1\">Expense Ratio</td>\n",
       " <td class=\"col2\">\n",
       " <a class=\"iconChart rt blank\"></a>\n",
       "                                 \n",
       " \n",
       "                                 0.59%\n",
       "                             \n",
       "                         </td>\n",
       " </tr>\n",
       " <tr>\n",
       " <td class=\"col1\"><a href=\"/mutual_funds/M:LALDX/total_assets_under_management\">Total Assets Under Management</a></td>\n",
       " <td class=\"col2\">\n",
       " <a class=\"iconChart rt\" href=\"/mutual_funds/M:LALDX/chart/#/?annotations=&amp;annualizedReturns=false&amp;calcs=include:true,id:total_assets_under_management,,&amp;chartType=interactive&amp;colors=&amp;correlations=&amp;dateSelection=range&amp;displayTicker=false&amp;endDate=&amp;format=real&amp;legendOnChart=true&amp;maxPoints=&amp;note=&amp;partner=&amp;quoteLegend=true&amp;quotes=&amp;recessions=false&amp;scaleType=linear&amp;securities=include:true,id:M:LALDX,,&amp;securityGroup=&amp;securitylistName=&amp;securitylistSecurityId=&amp;source=false&amp;splitType=single&amp;startDate=&amp;title=&amp;units=false&amp;useEstimates=false&amp;useHttps=false&amp;zoom=5\"></a>\n",
       "                                 \n",
       " \n",
       "                                 55.70B\n",
       "                             \n",
       "                         </td>\n",
       " </tr>\n",
       " <tr>\n",
       " <td class=\"col1\"><a href=\"/mutual_funds/M:LALDX/assets_under_management\">Share Class Assets Under Management</a></td>\n",
       " <td class=\"col2\">\n",
       " <a class=\"iconChart rt\" href=\"/mutual_funds/M:LALDX/chart/#/?annotations=&amp;annualizedReturns=false&amp;calcs=include:true,id:assets_under_management,,&amp;chartType=interactive&amp;colors=&amp;correlations=&amp;dateSelection=range&amp;displayTicker=false&amp;endDate=&amp;format=real&amp;legendOnChart=true&amp;maxPoints=&amp;note=&amp;partner=&amp;quoteLegend=true&amp;quotes=&amp;recessions=false&amp;scaleType=linear&amp;securities=include:true,id:M:LALDX,,&amp;securityGroup=&amp;securitylistName=&amp;securitylistSecurityId=&amp;source=false&amp;splitType=single&amp;startDate=&amp;title=&amp;units=false&amp;useEstimates=false&amp;useHttps=false&amp;zoom=5\"></a>\n",
       "                                 \n",
       " \n",
       "                                 11.73B\n",
       "                             \n",
       "                         </td>\n",
       " </tr>\n",
       " </tbody>\n",
       " </table>\n",
       " </div>\n",
       " </div>\n",
       " <div class=\"statsCol\">\n",
       " <div>\n",
       " <table class=\"statTable\">\n",
       " <tbody>\n",
       " <tr>\n",
       " <td class=\"col1\"><a href=\"/mutual_funds/M:LALDX/net_asset_value\">Net Asset Value</a></td>\n",
       " <td class=\"col2\">\n",
       " <a class=\"iconChart rt\" href=\"/mutual_funds/M:LALDX/chart/#/?annotations=&amp;annualizedReturns=false&amp;calcs=include:true,id:net_asset_value,,&amp;chartType=interactive&amp;colors=&amp;correlations=&amp;dateSelection=range&amp;displayTicker=false&amp;endDate=&amp;format=real&amp;legendOnChart=true&amp;maxPoints=&amp;note=&amp;partner=&amp;quoteLegend=true&amp;quotes=&amp;recessions=false&amp;scaleType=linear&amp;securities=include:true,id:M:LALDX,,&amp;securityGroup=&amp;securitylistName=&amp;securitylistSecurityId=&amp;source=false&amp;splitType=single&amp;startDate=&amp;title=&amp;units=false&amp;useEstimates=false&amp;useHttps=false&amp;zoom=5\"></a>\n",
       "                                 \n",
       " \n",
       "                                 4.21\n",
       "                             \n",
       "                         </td>\n",
       " </tr>\n",
       " <tr>\n",
       " <td class=\"col1\">Turnover Ratio</td>\n",
       " <td class=\"col2\">\n",
       " <a class=\"iconChart rt blank\"></a>\n",
       "                                 \n",
       " \n",
       "                                 71.00%\n",
       "                             \n",
       "                         </td>\n",
       " </tr>\n",
       " <tr>\n",
       " <td class=\"col1\">1 Year Fund Level Flows</td>\n",
       " <td class=\"col2\">\n",
       " <a class=\"iconChart rt blank\"></a>\n",
       "                                 \n",
       " \n",
       "                                 12.08B\n",
       "                             \n",
       "                         </td>\n",
       " </tr>\n",
       " </tbody>\n",
       " </table>\n",
       " </div>\n",
       " </div>\n",
       " </div>, '\\n']"
      ]
     },
     "execution_count": 93,
     "metadata": {},
     "output_type": "execute_result"
    }
   ],
   "source": [
    "soup.find('div', {'class','boxStats'}).contents"
   ]
  },
  {
   "cell_type": "code",
   "execution_count": 84,
   "metadata": {},
   "outputs": [
    {
     "data": {
      "text/plain": [
       "'\\nKey Stats\\n\\n\\n\\n\\n\\n\\nExpense Ratio\\n\\n\\n                                \\n\\n                                0.59%\\n                            \\n                        \\n\\n\\nTotal Assets Under Management\\n\\n\\n                                \\n\\n                                55.70B\\n                            \\n                        \\n\\n\\nShare Class Assets Under Management\\n\\n\\n                                \\n\\n                                11.73B\\n                            \\n                        \\n\\n\\n\\n\\n\\n\\n\\n\\n\\n\\nNet Asset Value\\n\\n\\n                                \\n\\n                                4.21\\n                            \\n                        \\n\\n\\nTurnover Ratio\\n\\n\\n                                \\n\\n                                71.00%\\n                            \\n                        \\n\\n\\n1 Year Fund Level Flows\\n\\n\\n                                \\n\\n                                12.08B\\n                            \\n                        \\n\\n\\n\\n\\n\\n\\n'"
      ]
     },
     "execution_count": 84,
     "metadata": {},
     "output_type": "execute_result"
    }
   ],
   "source": [
    "soup.find('div', {'class','box boxStats cf'}).get_text()"
   ]
  },
  {
   "cell_type": "code",
   "execution_count": null,
   "metadata": {},
   "outputs": [],
   "source": [
    "from bs4 import BeautifulSoup\n",
    "\n",
    "soup = BeautifulSoup(page_source, 'lxml')\n",
    "reviews = []\n",
    "reviews_selector = soup.find_all('div', class_='reviewSelector')\n",
    "for review_selector in reviews_selector:\n",
    "    review_div = review_selector.find('div', class_='dyn_full_review')\n",
    "    if review_div is None:\n",
    "        review_div = review_selector.find('div', class_='basic_review')\n",
    "    review = review_div.find('div', class_='entry').find('p').get_text()\n",
    "    review = review.strip()\n",
    "    reviews.append(review)"
   ]
  },
  {
   "cell_type": "markdown",
   "metadata": {},
   "source": [
    "### Key Stats Box"
   ]
  },
  {
   "cell_type": "code",
   "execution_count": 161,
   "metadata": {},
   "outputs": [],
   "source": [
    "features = []"
   ]
  },
  {
   "cell_type": "code",
   "execution_count": 170,
   "metadata": {},
   "outputs": [],
   "source": [
    "features_list= []\n",
    "\n",
    "for i in driver.find_elements_by_class_name('statsCol'):\n",
    "    for j in i.find_elements_by_tag_name('tr'):\n",
    "        #turn the first element of j into key, turn 2nd part of j into value\n",
    "        features_list.append(j.text)\n",
    "#         j.find_elements_by_tag_name('tr')"
   ]
  },
  {
   "cell_type": "code",
   "execution_count": 171,
   "metadata": {},
   "outputs": [
    {
     "data": {
      "text/plain": [
       "['Expense Ratio\\n0.59%',\n",
       " 'Total Assets Under Management\\n55.70B',\n",
       " 'Share Class Assets Under Management\\n11.73B',\n",
       " 'Net Asset Value\\n4.21',\n",
       " 'Turnover Ratio\\n71.00%',\n",
       " '1 Year Fund Level Flows\\n12.08B']"
      ]
     },
     "execution_count": 171,
     "metadata": {},
     "output_type": "execute_result"
    }
   ],
   "source": [
    "features_list"
   ]
  },
  {
   "cell_type": "code",
   "execution_count": 125,
   "metadata": {},
   "outputs": [],
   "source": [
    "fund_features = {}"
   ]
  },
  {
   "cell_type": "code",
   "execution_count": 172,
   "metadata": {},
   "outputs": [],
   "source": [
    "listy = []"
   ]
  },
  {
   "cell_type": "code",
   "execution_count": 173,
   "metadata": {},
   "outputs": [],
   "source": [
    "for i in features_list:\n",
    "    listy.append(i.split('\\n')[0])\n",
    "    listy.append(i.split('\\n')[1])"
   ]
  },
  {
   "cell_type": "code",
   "execution_count": 203,
   "metadata": {},
   "outputs": [],
   "source": [
    "#convert to dictionary\n",
    "def Convert(lst): \n",
    "    res_dct = {lst[i]: lst[i + 1] for i in range(0, len(lst), 2)} \n",
    "    return res_dct "
   ]
  },
  {
   "cell_type": "code",
   "execution_count": 252,
   "metadata": {},
   "outputs": [
    {
     "name": "stdout",
     "output_type": "stream",
     "text": [
      "{'Expense Ratio': '0.59%', 'Total Assets Under Management': '55.70B', 'Share Class Assets Under Management': '11.73B', 'Net Asset Value': '4.21', 'Turnover Ratio': '71.00%', '1 Year Fund Level Flows': '12.08B', 'Total': 'Return', '1M': '0.50%', '3M': '0.84%', '6M': '1.99%', 'YTD': '5.22%', '1Y': '5.45%', '3Y': '2.97%', '5Y': '2.62%', '10Y': '3.24%', '15Y': '3.85%', '20Y': '4.17%', 'Type': '%', 'Cash': '2.54%', 'Stock': '0.01%', 'Bond': '97.19%', 'Convertible': '0.27%', 'Preferred': '0.00%', 'Other': '0.00%'}\n"
     ]
    }
   ],
   "source": [
    "# Driver code \n",
    "print(Convert(listy)) "
   ]
  },
  {
   "cell_type": "markdown",
   "metadata": {},
   "source": [
    "### Performance & Returns"
   ]
  },
  {
   "cell_type": "code",
   "execution_count": 176,
   "metadata": {},
   "outputs": [],
   "source": [
    "tables_list = []"
   ]
  },
  {
   "cell_type": "code",
   "execution_count": 177,
   "metadata": {},
   "outputs": [],
   "source": [
    "for i in driver.find_elements_by_class_name('tblFundPerformance'):\n",
    "#     print(i.text)\n",
    "    for j in i.find_elements_by_tag_name('tr'):\n",
    "        tables_list.append(j.text)"
   ]
  },
  {
   "cell_type": "code",
   "execution_count": 182,
   "metadata": {},
   "outputs": [],
   "source": [
    "for i in tables_list:\n",
    "    listy.append(i.split()[0])\n",
    "    listy.append(i.split()[1])\n",
    "    \n",
    "    "
   ]
  },
  {
   "cell_type": "markdown",
   "metadata": {},
   "source": [
    "### Asset Allocation"
   ]
  },
  {
   "cell_type": "code",
   "execution_count": null,
   "metadata": {},
   "outputs": [],
   "source": [
    "get on your own"
   ]
  },
  {
   "cell_type": "code",
   "execution_count": 194,
   "metadata": {},
   "outputs": [
    {
     "data": {
      "text/plain": [
       "'Type % Net % Long % Short\\nCash 2.54% 2.54% 0.00%\\nStock 0.01% 0.01% 0.00%\\nBond 97.19% 97.19% 0.00%\\nConvertible 0.27% 0.27% 0.00%\\nPreferred 0.00% 0.00% 0.00%\\nOther 0.00% 0.00% 0.00%'"
      ]
     },
     "execution_count": 194,
     "metadata": {},
     "output_type": "execute_result"
    }
   ],
   "source": [
    "driver.find_element_by_class_name('tblAssetHoldgs')"
   ]
  },
  {
   "cell_type": "code",
   "execution_count": 200,
   "metadata": {},
   "outputs": [],
   "source": [
    "asset_all_list = []"
   ]
  },
  {
   "cell_type": "code",
   "execution_count": 201,
   "metadata": {},
   "outputs": [],
   "source": [
    "for i in driver.find_element_by_class_name('tblAssetHoldgs').find_elements_by_tag_name('tr'):\n",
    "    asset_all_list.append(i.text)\n",
    "    \n",
    "#     for j in i.find_elements_by_tag_name('tr'):\n",
    "#         print(j.text)"
   ]
  },
  {
   "cell_type": "code",
   "execution_count": 251,
   "metadata": {},
   "outputs": [],
   "source": [
    "for i in asset_all_list:\n",
    "    listy.append(i.split()[0])\n",
    "    listy.append(i.split()[1])\n",
    "    \n",
    "    "
   ]
  },
  {
   "cell_type": "code",
   "execution_count": 207,
   "metadata": {},
   "outputs": [
    {
     "name": "stdout",
     "output_type": "stream",
     "text": [
      "%\n",
      "0.00%\n",
      "0.00%\n",
      "0.00%\n",
      "0.00%\n",
      "0.00%\n",
      "0.00%\n"
     ]
    }
   ],
   "source": [
    "for i in asset_all_list:\n",
    "    print(i.split()[3])"
   ]
  },
  {
   "cell_type": "code",
   "execution_count": 223,
   "metadata": {},
   "outputs": [],
   "source": [
    "def remove_from_list(lst, number):\n",
    "    for i in range(number):\n",
    "        lst.pop()\n",
    "    return lst"
   ]
  },
  {
   "cell_type": "code",
   "execution_count": 247,
   "metadata": {},
   "outputs": [
    {
     "data": {
      "text/plain": [
       "['Expense Ratio',\n",
       " '0.59%',\n",
       " 'Total Assets Under Management',\n",
       " '55.70B',\n",
       " 'Share Class Assets Under Management',\n",
       " '11.73B',\n",
       " 'Net Asset Value',\n",
       " '4.21',\n",
       " 'Turnover Ratio',\n",
       " '71.00%',\n",
       " '1 Year Fund Level Flows',\n",
       " '12.08B',\n",
       " 'Total',\n",
       " 'Return',\n",
       " '1M',\n",
       " '0.50%',\n",
       " '3M',\n",
       " '0.84%',\n",
       " '6M',\n",
       " '1.99%',\n",
       " 'YTD',\n",
       " '5.22%',\n",
       " '1Y',\n",
       " '5.45%',\n",
       " '3Y',\n",
       " '2.97%',\n",
       " '5Y',\n",
       " '2.62%',\n",
       " '10Y',\n",
       " '3.24%',\n",
       " '15Y',\n",
       " '3.85%',\n",
       " '20Y',\n",
       " '4.17%']"
      ]
     },
     "execution_count": 247,
     "metadata": {},
     "output_type": "execute_result"
    }
   ],
   "source": [
    "# remove_from_list(listy, 1)"
   ]
  },
  {
   "cell_type": "code",
   "execution_count": null,
   "metadata": {},
   "outputs": [],
   "source": []
  },
  {
   "cell_type": "code",
   "execution_count": 274,
   "metadata": {},
   "outputs": [
    {
     "data": {
      "text/plain": [
       "{'Expense Ratio': '0.59%',\n",
       " 'Total Assets Under Management': '55.70B',\n",
       " 'Share Class Assets Under Management': '11.73B',\n",
       " 'Net Asset Value': '4.21',\n",
       " 'Turnover Ratio': '71.00%',\n",
       " '1 Year Fund Level Flows': '12.08B',\n",
       " 'Total': 'Return',\n",
       " '1M': '0.50%',\n",
       " '3M': '0.84%',\n",
       " '6M': '1.99%',\n",
       " 'YTD': '5.22%',\n",
       " '1Y': '5.45%',\n",
       " '3Y': '2.97%',\n",
       " '5Y': '2.62%',\n",
       " '10Y': '3.24%',\n",
       " '15Y': '3.85%',\n",
       " '20Y': '4.17%',\n",
       " 'Type': '%',\n",
       " 'Cash': '2.54%',\n",
       " 'Stock': '0.01%',\n",
       " 'Bond': '97.19%',\n",
       " 'Convertible': '0.27%',\n",
       " 'Preferred': '0.00%',\n",
       " 'Other': '0.00%',\n",
       " 'Americas': '89.41%',\n",
       " 'LALDX': 'Bond',\n",
       " 'Greater': 'Asia'}"
      ]
     },
     "execution_count": 274,
     "metadata": {},
     "output_type": "execute_result"
    }
   ],
   "source": [
    "Convert(listy)"
   ]
  },
  {
   "cell_type": "markdown",
   "metadata": {},
   "source": [
    "### Region Exposure"
   ]
  },
  {
   "cell_type": "code",
   "execution_count": 275,
   "metadata": {},
   "outputs": [],
   "source": [
    "two_column_list= []"
   ]
  },
  {
   "cell_type": "code",
   "execution_count": 290,
   "metadata": {},
   "outputs": [
    {
     "data": {
      "text/plain": [
       "'Americas 89.41%\\nNorth America 84.87%\\nLatin America 4.54%\\nGreater Europe 8.15%\\nUnited Kingdom 2.25%\\nEurope Developed 5.17%\\nEurope Emerging 0.40%\\nAfrica/Middle East 0.33%'"
      ]
     },
     "execution_count": 290,
     "metadata": {},
     "output_type": "execute_result"
    }
   ],
   "source": [
    "driver.find_element_by_xpath('//*[@id=\"colMainPct\"]/div[6]/div[1]/div/table').text"
   ]
  },
  {
   "cell_type": "code",
   "execution_count": 326,
   "metadata": {},
   "outputs": [],
   "source": [
    "region_exposure = {}"
   ]
  },
  {
   "cell_type": "code",
   "execution_count": 327,
   "metadata": {},
   "outputs": [],
   "source": [
    "for i in driver.find_elements_by_class_name('boxModule'):\n",
    "#     region_exposure = {}\n",
    "    if i.text[:15] == 'Region Exposure':\n",
    "        for j in i.find_elements_by_tag_name('tr'):\n",
    "            region_exposure[(j.find_element_by_class_name('col1').text)] = (j.find_element_by_class_name('col2').text)\n",
    "#         print(i.text)\n",
    "#     print(i.text, '\\n')\n",
    "#     it.text\n",
    "#     if i.text():\n",
    "#         print(i.text)\n",
    "        \n",
    "        \n",
    "# if answer in ['y', 'Y', 'yes', 'Yes', 'YES']:\n",
    "#     print(\"this will do the calculation\")"
   ]
  },
  {
   "cell_type": "code",
   "execution_count": 328,
   "metadata": {},
   "outputs": [
    {
     "data": {
      "text/plain": [
       "{'Americas': '89.41%',\n",
       " 'North America': '84.87%',\n",
       " 'Latin America': '4.54%',\n",
       " 'Greater Europe': '8.15%',\n",
       " 'United Kingdom': '2.25%',\n",
       " 'Europe Developed': '5.17%',\n",
       " 'Europe Emerging': '0.40%',\n",
       " 'Africa/Middle East': '0.33%',\n",
       " 'Greater Asia': '2.44%',\n",
       " 'Japan': '0.00%',\n",
       " 'Australasia': '0.48%',\n",
       " 'Asia Developed': '0.19%',\n",
       " 'Asia Emerging': '1.76%',\n",
       " 'Market Classification': '',\n",
       " '% Developed Markets': '97.22%',\n",
       " '% Emerging Markets': '2.78%'}"
      ]
     },
     "execution_count": 328,
     "metadata": {},
     "output_type": "execute_result"
    }
   ],
   "source": [
    "region_exposure"
   ]
  },
  {
   "cell_type": "markdown",
   "metadata": {},
   "source": [
    "### Bond Exposure"
   ]
  },
  {
   "cell_type": "code",
   "execution_count": 333,
   "metadata": {},
   "outputs": [],
   "source": [
    "for i in driver.find_elements_by_class_name('boxModule'):\n",
    "    if 'Bond Exposure' in i.text[:20]:\n",
    "        for j in i.find_elements_by_tag_name('tr'):\n",
    "            region_exposure[(j.find_element_by_class_name('col1').text)] = (j.find_element_by_class_name('col2').text)"
   ]
  },
  {
   "cell_type": "code",
   "execution_count": 332,
   "metadata": {},
   "outputs": [
    {
     "data": {
      "text/plain": [
       "19"
      ]
     },
     "execution_count": 332,
     "metadata": {},
     "output_type": "execute_result"
    }
   ],
   "source": [
    "len('LALDX Bond Exposure')"
   ]
  },
  {
   "cell_type": "markdown",
   "metadata": {},
   "source": [
    "### Bond Maturity Exposure"
   ]
  },
  {
   "cell_type": "code",
   "execution_count": 481,
   "metadata": {},
   "outputs": [],
   "source": [
    "feature = {}"
   ]
  },
  {
   "cell_type": "code",
   "execution_count": 367,
   "metadata": {},
   "outputs": [
    {
     "data": {
      "text/plain": [
       "10"
      ]
     },
     "execution_count": 367,
     "metadata": {},
     "output_type": "execute_result"
    }
   ],
   "source": [
    "len(\"Attributes\")"
   ]
  },
  {
   "cell_type": "markdown",
   "metadata": {},
   "source": [
    "## Equities"
   ]
  },
  {
   "cell_type": "code",
   "execution_count": 475,
   "metadata": {},
   "outputs": [
    {
     "data": {
      "text/plain": [
       "27"
      ]
     },
     "execution_count": 475,
     "metadata": {},
     "output_type": "execute_result"
    }
   ],
   "source": [
    "len('Stock Market Capitalization')"
   ]
  },
  {
   "cell_type": "code",
   "execution_count": 479,
   "metadata": {},
   "outputs": [
    {
     "data": {
      "application/vnd.jupyter.widget-view+json": {
       "model_id": "b8d1a4ee1582467d9e2d9fa7fa3bac7c",
       "version_major": 2,
       "version_minor": 0
      },
      "text/plain": [
       "HBox(children=(IntProgress(value=0, max=16), HTML(value='')))"
      ]
     },
     "metadata": {},
     "output_type": "display_data"
    },
    {
     "name": "stdout",
     "output_type": "stream",
     "text": [
      "Performance & Returns\n",
      "  Total Return Cat. Total Return (NAV) % Rank in Cat. (NAV)\n",
      "1M -3.01% 1.15% 100\n",
      "3M -5.21% 4.75% 100\n",
      "6M -4.34% 7.34% 100\n",
      "YTD 6.76% 23.15% 98\n",
      "1Y -1.88% 15.94% 100\n",
      "3Y -3.66% 7.54% 100\n",
      "5Y -3.56% 6.71% 100\n",
      "10Y 2.38% 11.16% 100\n",
      "15Y 0.33% 7.66% 100\n",
      "20Y -- 8.08% --\n",
      "As of Dec. 10, 2019. Returns for periods of 1 year and above are annualized. \n",
      "\n",
      "Asset Allocation\n",
      "Type % Net % Long % Short\n",
      "Cash 0.00% 0.00% 0.00%\n",
      "Stock 100.00% 100.00% 0.00%\n",
      "Bond 0.00% 0.00% 0.00%\n",
      "Convertible 0.00% 0.00% 0.00%\n",
      "Preferred 0.00% 0.00% 0.00%\n",
      "Other 0.00% 0.00% 0.00%\n",
      "As of Sept. 30, 2019 \n",
      "\n",
      "Region Exposure\n",
      "Americas 96.73%\n",
      "North America 96.73%\n",
      "Latin America 0.00%\n",
      "Greater Europe 3.27%\n",
      "United Kingdom 0.00%\n",
      "Europe Developed 0.00%\n",
      "Europe Emerging 3.27%\n",
      "Africa/Middle East 0.00%\n",
      "Greater Asia 0.00%\n",
      "Japan 0.00%\n",
      "Australasia 0.00%\n",
      "Asia Developed 0.00%\n",
      "Asia Emerging 0.00%\n",
      "Market Classification\n",
      "% Developed Markets 96.73%\n",
      "% Emerging Markets 3.27%\n",
      "As of Sept. 30, 2019. Region breakdown data is calculated by using the long position holdings of the portfolio. \n",
      "\n",
      "Stock Sector Exposure\n",
      "Basic Materials 2.77%\n",
      "Communication Services 0.00%\n",
      "Consumer Cyclical 33.88%\n",
      "Consumer Defensive 0.00%\n",
      "Energy 12.36%\n",
      "Financial Services 10.24%\n",
      "Healthcare 0.00%\n",
      "Industrials 29.88%\n",
      "Real Estate 0.00%\n",
      "Technology 10.87%\n",
      "Utilities 0.00%\n",
      "As of Sept. 30, 2019 \n",
      "\n",
      "Stock Market Capitalization\n",
      "Giant 0.00%\n",
      "Large 8.21%\n",
      "Medium 66.50%\n",
      "Small 22.83%\n",
      "Micro 2.45%\n",
      "As of Sept. 30, 2019 \n",
      "\n",
      "Stock Style Exposure\n",
      "Large Cap Value 0.00%\n",
      "Large Cap Blend 0.00%\n",
      "Large Cap Growth 8.21%\n",
      "Mid Cap Value 23.08%\n",
      "Mid Cap Blend 25.48%\n",
      "Mid Cap Growth 17.94%\n",
      "Small Cap Value 13.05%\n",
      "Small Cap Blend 12.23%\n",
      "Small Cap Growth 0.00%\n",
      "As of Sept. 30, 2019 \n",
      "\n",
      "View More Holdings\n",
      "Top 10 Holdings\n",
      "Symbol Name % Weight Price % Chg\n",
      "NAV Navistar International Corp 4.92% 32.33 +1.28%\n",
      "KEX Kirby Corp 4.88% 81.77 +0.50%\n",
      "HLX Helix Energy Solutions Group Inc 4.79% 9.13 +0.77%\n",
      "PAG Penske Automotive Group Inc 4.68% 52.19 +1.44%\n",
      "CONN Conn's Inc 4.68% 13.14 -3.74%\n",
      "WAB Westinghouse Air Brake Technologies Corp 4.51% 74.70 +0.30%\n",
      "EWBC East West Bancorp Inc 4.39% 46.01 -0.37%\n",
      "KNX Knight-Swift Transportation Holdings Inc A 4.31% 37.79 +1.23%\n",
      "ORLY O'Reilly Automotive Inc 4.28% 444.52 +0.59%\n",
      "KSU Kansas City Southern 4.17% 153.47 +1.53%\n",
      "As of Sept. 30, 2019 \n",
      "\n",
      "Basic Info\n",
      "Investment Strategy\n",
      "The investment seeks long-term capital appreciation. The fund normally invests at least 80% of net assets (plus borrowing for investment purposes) in mid-capitalization companies that are, at the time of purchase, within the market capitalization range of companies that comprise the Russell Midcap® Index. It uses an actively managed, value-based investment approach focusing on the long-term market cycle (at least 3-5 years) to select investments.\n",
      "General\n",
      "Security Type Mutual Fund\n",
      "Oldest Share Symbol PAMVX\n",
      "Equity Style Mid Cap/Blend\n",
      "Fixed Income Style --\n",
      "Broad Asset Class US Equity\n",
      "Broad Category Equity\n",
      "Category Name Mid-Cap Blend\n",
      "Prospectus Objective Growth\n",
      "Fund Owner Firm Name Pacific Advisors Funds\n",
      "Reports\n",
      "One Page Report Download \n",
      "\n",
      "Manager Info\n",
      "Name Tenure\n",
      "George Henning 12.01 yrs \n",
      "\n",
      "Share Classes\n",
      "Symbol Share Class\n",
      "PAMVX A \n",
      "\n",
      "Net Fund Flows\n",
      "1M -6267.89\n",
      "3M -163292.4\n",
      "6M -895750.4\n",
      "YTD -1.172M\n",
      "1Y -1.218M\n",
      "3Y -3.214M\n",
      "5Y -3.155M\n",
      "10Y -4.971M\n",
      "As of Nov. 30, 2019 \n",
      "\n",
      "Risk Info\n",
      "Beta (5Y) 1.431\n",
      "Historical Sharpe Ratio (10Y) 0.2206\n",
      "Historical Sortino (All) 0.1022\n",
      "Daily Value at Risk (VaR) 1% (All) 4.41%\n",
      "Monthly Value at Risk (VaR) 1% (All) 18.44% \n",
      "\n",
      "Fundamentals\n",
      "Dividend Yield TTM (12-10-19) 0.00%\n",
      "30-Day SEC Yield --\n",
      "7-Day SEC Yield --\n",
      "Weighted Average PE Ratio 15.23\n",
      "Weighted Average Price to Sales Ratio 0.7023\n",
      "Weighted Average Price to Book Ratio 1.671\n",
      "Weighted Median ROE 20.03%\n",
      "Weighted Median ROA 6.57%\n",
      "Forecasted Dividend Yield 1.06%\n",
      "Forecasted PE Ratio 13.86\n",
      "Forecasted Price to Sales Ratio 0.6888\n",
      "Forecasted Price to Book Ratio 1.611\n",
      "Number of Holdings 28\n",
      "As of Sept. 30, 2019 \n",
      "\n",
      "Growth Estimates\n",
      "Forecasted 5 Yr Earnings Growth 10.36%\n",
      "Forecasted Book Value Growth 9.03%\n",
      "Forecasted Cash Flow Growth -9.58%\n",
      "Forecasted Earnings Growth 8.28%\n",
      "Forecasted Revenue Growth 4.20%\n",
      "As of Sept. 30, 2019 \n",
      "\n",
      "Comparables\n",
      "Edit\n",
      "DPSCX BNY Mellon Structured Midcap C\n",
      "BMSDX MFS Blended Research Mid Cap Eq C\n",
      "SMDQX Sterling Capital SMID Opportunities C\n",
      "GMVCX Goldman Sachs Small/Mid Cap Value C\n",
      "RIVCX Victory RS Investors C \n",
      "\n",
      "Attributes\n",
      "Purchase Details\n",
      "Open to New Investors Yes\n",
      "Open to Existing Investors Yes\n",
      "Minimum Initial Investment 10000.00 USD\n",
      "Minimum Subsequent Investment 500.00 USD\n",
      "Fees\n",
      "Actual 12B-1 Fee 1.00%\n",
      "Actual Management Fee 1.00%\n",
      "Administration Fee 0.05%\n",
      "Performance Fee --\n",
      "Switching Fee --\n",
      "Transaction Fee --\n",
      "Maximum Front Load --\n",
      "Maximum Deferred Load 1.00%\n",
      "Maximum Redemption Fee 2.00%\n",
      "Key Dates\n",
      "Inception Date 4/1/2002\n",
      "Termination Date\n",
      "Last Annual Report Date 12/31/2018\n",
      "Last Prospectus Date 5/1/2019\n",
      "Attributes\n",
      "Exchange Traded Share No\n",
      "Exchange Traded Note No\n",
      "Enhanced Index Fund No\n",
      "Fixed Distribution Fund No\n",
      "High-Net Worth Individual Fund No\n",
      "Index Fund No\n",
      "Inverse Fund No\n",
      "Leveraged Fund No\n",
      "Fund of Funds No\n",
      "Currency Hedged Fund No\n",
      "Synthetic Replication Fund No\n",
      "Has Dividend Investment Plan No\n",
      "Socially Responsible Fund No\n",
      "General Availability\n",
      "Available for Insurance Product No\n",
      "Available for Retirement Plan No\n",
      "Available for RRSP No \n",
      "\n",
      "\n"
     ]
    }
   ],
   "source": [
    "for i in tqdm(driver.find_elements_by_class_name('boxModule')):\n",
    "    print(i.text, '\\n')"
   ]
  },
  {
   "cell_type": "code",
   "execution_count": 477,
   "metadata": {},
   "outputs": [
    {
     "data": {
      "application/vnd.jupyter.widget-view+json": {
       "model_id": "63817edce56549298bcab05a028c1c1d",
       "version_major": 2,
       "version_minor": 0
      },
      "text/plain": [
       "HBox(children=(IntProgress(value=0, max=16), HTML(value='')))"
      ]
     },
     "metadata": {},
     "output_type": "display_data"
    },
    {
     "name": "stdout",
     "output_type": "stream",
     "text": [
      "\n"
     ]
    }
   ],
   "source": [
    "for i in tqdm(driver.find_elements_by_class_name('boxModule')):\n",
    "    if 'Stock Sector Exposure' in i.text[:22]:\n",
    "        for j in i.find_elements_by_tag_name('tr'):\n",
    "            feature[str('stock_sector_')+(j.find_element_by_class_name('col1').text)] = (j.find_element_by_class_name('col2').text)\n",
    "    if 'Stock Style Exposure' in i.text[:20]:\n",
    "        for j in i.find_elements_by_tag_name('tr'):\n",
    "            feature[str('stock_style_')+(j.find_element_by_class_name('col1').text)] = (j.find_element_by_class_name('col2').text)\n",
    "    if 'Stock Market Capitalization' in i.text[:28]:\n",
    "        for j in i.find_elements_by_tag_name('tr'):\n",
    "            feature[str('stock_market_cap_')+(j.find_element_by_class_name('col1').text)] = (j.find_element_by_class_name('col2').text)\n",
    "    if 'Growth Estimates' in i.text[:17]:\n",
    "        for j in i.find_elements_by_tag_name('tr'):\n",
    "            feature[str(j.find_element_by_class_name('col1').text)] = (j.find_element_by_class_name('col2').text)\n"
   ]
  },
  {
   "cell_type": "code",
   "execution_count": 490,
   "metadata": {},
   "outputs": [
    {
     "data": {
      "text/plain": [
       "12"
      ]
     },
     "execution_count": 490,
     "metadata": {},
     "output_type": "execute_result"
    }
   ],
   "source": [
    "len('Manager Info')"
   ]
  },
  {
   "cell_type": "code",
   "execution_count": 482,
   "metadata": {},
   "outputs": [
    {
     "data": {
      "application/vnd.jupyter.widget-view+json": {
       "model_id": "",
       "version_major": 2,
       "version_minor": 0
      },
      "text/plain": [
       "HBox(children=(IntProgress(value=0, max=16), HTML(value='')))"
      ]
     },
     "metadata": {},
     "output_type": "display_data"
    },
    {
     "name": "stdout",
     "output_type": "stream",
     "text": [
      "\n"
     ]
    }
   ],
   "source": [
    "for i in tqdm(driver.find_elements_by_class_name('boxModule')):\n",
    "    if 'Growth Estimates' in i.text[:17]:\n",
    "        for j in i.find_elements_by_tag_name('tr'):\n",
    "            feature[str(j.find_element_by_class_name('col1').text)] = (j.find_element_by_class_name('col2').text)\n",
    "    \n",
    "# Growth Estimates"
   ]
  },
  {
   "cell_type": "code",
   "execution_count": 496,
   "metadata": {},
   "outputs": [
    {
     "data": {
      "application/vnd.jupyter.widget-view+json": {
       "model_id": "db2ddeacc5184a9d89e833d26d9da4b6",
       "version_major": 2,
       "version_minor": 0
      },
      "text/plain": [
       "HBox(children=(IntProgress(value=0, max=18), HTML(value='')))"
      ]
     },
     "metadata": {},
     "output_type": "display_data"
    },
    {
     "name": "stdout",
     "output_type": "stream",
     "text": [
      "\n"
     ]
    }
   ],
   "source": [
    "#Manager Info\n",
    "for i in tqdm(driver.find_elements_by_class_name('boxModule')):\n",
    "    if 'Manager Info' in i.text[:13]:\n",
    "        feature['manager'] = (i.text)\n",
    "#         for j in i.find_elements_by_tag_name('tr'):\n",
    "#             feature['managers'] = (j.element)\n",
    "#             print(j.text, '\\n')\n",
    "#             feature[str(j.find_element_by_class_name('col1').text)] = (j.find_element_by_class_name('col2').text)\n",
    "    \n",
    "# Growth Estimates"
   ]
  },
  {
   "cell_type": "code",
   "execution_count": 497,
   "metadata": {},
   "outputs": [
    {
     "data": {
      "text/plain": [
       "{'name': 'Pacific Advisors Mid Cap Value C (PMVCX)',\n",
       " 'Expense Ratio': '6.08%',\n",
       " 'Total Assets Under Management': '2.886M',\n",
       " 'Share Class Assets Under Management': '40097.39',\n",
       " 'Net Asset Value': '8.37',\n",
       " 'Turnover Ratio': '2.00%',\n",
       " '1 Year Fund Level Flows': '-1.218M',\n",
       " 'performance_1M': '-3.01%',\n",
       " 'performance_3M': '-5.21%',\n",
       " 'performance_6M': '-4.34%',\n",
       " 'performance_YTD': '6.76%',\n",
       " 'performance_1Y': '-1.88%',\n",
       " 'performance_3Y': '-3.66%',\n",
       " 'performance_5Y': '-3.56%',\n",
       " 'performance_10Y': '2.38%',\n",
       " 'performance_15Y': '0.33%',\n",
       " 'performance_20Y': '--',\n",
       " 'asset_allocation_net_Cash': '0.00%',\n",
       " 'asset_allocation_long_Cash': '0.00%',\n",
       " 'asset_allocation_short_Cash': '0.00%',\n",
       " 'asset_allocation_net_Stock': '100.00%',\n",
       " 'asset_allocation_long_Stock': '100.00%',\n",
       " 'asset_allocation_short_Stock': '0.00%',\n",
       " 'asset_allocation_net_Bond': '0.00%',\n",
       " 'asset_allocation_long_Bond': '0.00%',\n",
       " 'asset_allocation_short_Bond': '0.00%',\n",
       " 'asset_allocation_net_Convertible': '0.00%',\n",
       " 'asset_allocation_long_Convertible': '0.00%',\n",
       " 'asset_allocation_short_Convertible': '0.00%',\n",
       " 'asset_allocation_net_Preferred': '0.00%',\n",
       " 'asset_allocation_long_Preferred': '0.00%',\n",
       " 'asset_allocation_short_Preferred': '0.00%',\n",
       " 'asset_allocation_net_Other': '0.00%',\n",
       " 'asset_allocation_long_Other': '0.00%',\n",
       " 'asset_allocation_short_Other': '0.00%',\n",
       " 'region_Americas': '96.73%',\n",
       " 'region_North America': '96.73%',\n",
       " 'region_Latin America': '0.00%',\n",
       " 'region_Greater Europe': '3.27%',\n",
       " 'region_United Kingdom': '0.00%',\n",
       " 'region_Europe Developed': '0.00%',\n",
       " 'region_Europe Emerging': '3.27%',\n",
       " 'region_Africa/Middle East': '0.00%',\n",
       " 'region_Greater Asia': '0.00%',\n",
       " 'region_Japan': '0.00%',\n",
       " 'region_Australasia': '0.00%',\n",
       " 'region_Asia Developed': '0.00%',\n",
       " 'region_Asia Emerging': '0.00%',\n",
       " 'region_Market Classification': '',\n",
       " 'region_% Developed Markets': '96.73%',\n",
       " 'region_% Emerging Markets': '3.27%',\n",
       " 'stock_sector_Basic Materials': '2.77%',\n",
       " 'stock_sector_Communication Services': '0.00%',\n",
       " 'stock_sector_Consumer Cyclical': '33.88%',\n",
       " 'stock_sector_Consumer Defensive': '0.00%',\n",
       " 'stock_sector_Energy': '12.36%',\n",
       " 'stock_sector_Financial Services': '10.24%',\n",
       " 'stock_sector_Healthcare': '0.00%',\n",
       " 'stock_sector_Industrials': '29.88%',\n",
       " 'stock_sector_Real Estate': '0.00%',\n",
       " 'stock_sector_Technology': '10.87%',\n",
       " 'stock_sector_Utilities': '0.00%',\n",
       " 'stock_market_cap_Giant': '0.00%',\n",
       " 'stock_market_cap_Large': '8.21%',\n",
       " 'stock_market_cap_Medium': '66.50%',\n",
       " 'stock_market_cap_Small': '22.83%',\n",
       " 'stock_market_cap_Micro': '2.45%',\n",
       " 'stock_style_Large Cap Value': '0.00%',\n",
       " 'stock_style_Large Cap Blend': '0.00%',\n",
       " 'stock_style_Large Cap Growth': '8.21%',\n",
       " 'stock_style_Mid Cap Value': '23.08%',\n",
       " 'stock_style_Mid Cap Blend': '25.48%',\n",
       " 'stock_style_Mid Cap Growth': '17.94%',\n",
       " 'stock_style_Small Cap Value': '13.05%',\n",
       " 'stock_style_Small Cap Blend': '12.23%',\n",
       " 'stock_style_Small Cap Growth': '0.00%',\n",
       " 'Security Type': 'Mutual Fund',\n",
       " 'Oldest Share Symbol': 'PAMVX',\n",
       " 'Equity Style': 'Mid Cap/Blend',\n",
       " 'Fixed Income Style': '--',\n",
       " 'Broad Asset Class': 'US Equity',\n",
       " 'Broad Category': 'Equity',\n",
       " 'Category Name': 'Mid-Cap Blend',\n",
       " 'Prospectus Objective': 'Growth',\n",
       " 'Fund Owner Firm Name': 'Pacific Advisors Funds',\n",
       " 'One Page Report': 'Download',\n",
       " 'net_flow_1M': '-6267.89',\n",
       " 'net_flow_3M': '-163292.4',\n",
       " 'net_flow_6M': '-895750.4',\n",
       " 'net_flow_YTD': '-1.172M',\n",
       " 'net_flow_1Y': '-1.218M',\n",
       " 'net_flow_3Y': '-3.214M',\n",
       " 'net_flow_5Y': '-3.155M',\n",
       " 'net_flow_10Y': '-4.971M',\n",
       " 'Beta (5Y)': '1.431',\n",
       " 'Historical Sharpe Ratio (10Y)': '0.2206',\n",
       " 'Historical Sortino (All)': '0.1022',\n",
       " 'Daily Value at Risk (VaR) 1% (All)': '4.41%',\n",
       " 'Monthly Value at Risk (VaR) 1% (All)': '18.44%',\n",
       " 'Dividend Yield TTM (12-10-19)': '0.00%',\n",
       " '30-Day SEC Yield': '--',\n",
       " '7-Day SEC Yield': '--',\n",
       " 'Weighted Average PE Ratio': '15.23',\n",
       " 'Weighted Average Price to Sales Ratio': '0.7023',\n",
       " 'Weighted Average Price to Book Ratio': '1.671',\n",
       " 'Weighted Median ROE': '20.03%',\n",
       " 'Weighted Median ROA': '6.57%',\n",
       " 'Forecasted Dividend Yield': '1.06%',\n",
       " 'Forecasted PE Ratio': '13.86',\n",
       " 'Forecasted Price to Sales Ratio': '0.6888',\n",
       " 'Forecasted Price to Book Ratio': '1.611',\n",
       " 'Number of Holdings': '28',\n",
       " 'Forecasted 5 Yr Earnings Growth': '10.36%',\n",
       " 'Forecasted Book Value Growth': '9.03%',\n",
       " 'Forecasted Cash Flow Growth': '-9.58%',\n",
       " 'Forecasted Earnings Growth': '8.28%',\n",
       " 'Forecasted Revenue Growth': '4.20%',\n",
       " 'Open to New Investors': 'Yes',\n",
       " 'Open to Existing Investors': 'Yes',\n",
       " 'Minimum Initial Investment': '10000.00 USD',\n",
       " 'Minimum Subsequent Investment': '500.00 USD',\n",
       " 'Actual 12B-1 Fee': '1.00%',\n",
       " 'Actual Management Fee': '1.00%',\n",
       " 'Administration Fee': '0.05%',\n",
       " 'Performance Fee': '--',\n",
       " 'Switching Fee': '--',\n",
       " 'Transaction Fee': '--',\n",
       " 'Maximum Front Load': '--',\n",
       " 'Maximum Deferred Load': '1.00%',\n",
       " 'Maximum Redemption Fee': '2.00%',\n",
       " 'Inception Date': '4/1/2002',\n",
       " 'Termination Date': '',\n",
       " 'Last Annual Report Date': '12/31/2018',\n",
       " 'Last Prospectus Date': '5/1/2019',\n",
       " 'Exchange Traded Share': 'No',\n",
       " 'Exchange Traded Note': 'No',\n",
       " 'Enhanced Index Fund': 'No',\n",
       " 'Fixed Distribution Fund': 'No',\n",
       " 'High-Net Worth Individual Fund': 'No',\n",
       " 'Index Fund': 'No',\n",
       " 'Inverse Fund': 'No',\n",
       " 'Leveraged Fund': 'No',\n",
       " 'Fund of Funds': 'No',\n",
       " 'Currency Hedged Fund': 'No',\n",
       " 'Synthetic Replication Fund': 'No',\n",
       " 'Has Dividend Investment Plan': 'No',\n",
       " 'Socially Responsible Fund': 'No',\n",
       " 'Available for Insurance Product': 'No',\n",
       " 'Available for Retirement Plan': 'No',\n",
       " 'Available for RRSP': 'No',\n",
       " 'manager': 'Manager Info\\nName Tenure\\nEvan Rudy 3.27 yrs\\nFrancis Greywitt 3.27 yrs\\nJohn Vojticek 4.54 yrs'}"
      ]
     },
     "execution_count": 497,
     "metadata": {},
     "output_type": "execute_result"
    }
   ],
   "source": [
    "feature"
   ]
  },
  {
   "cell_type": "code",
   "execution_count": null,
   "metadata": {},
   "outputs": [],
   "source": []
  },
  {
   "cell_type": "markdown",
   "metadata": {},
   "source": [
    "## Full Features"
   ]
  },
  {
   "cell_type": "code",
   "execution_count": 484,
   "metadata": {},
   "outputs": [],
   "source": [
    "feature = {}"
   ]
  },
  {
   "cell_type": "code",
   "execution_count": 485,
   "metadata": {},
   "outputs": [],
   "source": [
    "feature['name']= driver.find_element_by_class_name('securityName').text"
   ]
  },
  {
   "cell_type": "code",
   "execution_count": 486,
   "metadata": {},
   "outputs": [
    {
     "data": {
      "application/vnd.jupyter.widget-view+json": {
       "model_id": "249dc84f09f84e449baabd9965bbf689",
       "version_major": 2,
       "version_minor": 0
      },
      "text/plain": [
       "HBox(children=(IntProgress(value=0, max=1), HTML(value='')))"
      ]
     },
     "metadata": {},
     "output_type": "display_data"
    },
    {
     "name": "stdout",
     "output_type": "stream",
     "text": [
      "\n"
     ]
    }
   ],
   "source": [
    "for i in tqdm(driver.find_elements_by_class_name('boxStats')):\n",
    "    for j in i.find_elements_by_tag_name('tr'):\n",
    "        feature[(j.find_element_by_class_name('col1').text)] = (j.find_element_by_class_name('col2').text)\n",
    "    "
   ]
  },
  {
   "cell_type": "code",
   "execution_count": 487,
   "metadata": {},
   "outputs": [
    {
     "data": {
      "application/vnd.jupyter.widget-view+json": {
       "model_id": "a5612007eb0547f3a1571a1bb3213985",
       "version_major": 2,
       "version_minor": 0
      },
      "text/plain": [
       "HBox(children=(IntProgress(value=0, max=16), HTML(value='')))"
      ]
     },
     "metadata": {},
     "output_type": "display_data"
    },
    {
     "name": "stdout",
     "output_type": "stream",
     "text": [
      "\n"
     ]
    }
   ],
   "source": [
    "for i in tqdm(driver.find_elements_by_class_name('boxModule')):\n",
    "    if 'Performance & Returns' in i.text[:22]:\n",
    "        for j in i.find_elements_by_tag_name('tr'):\n",
    "            if len(j.find_elements_by_tag_name('td')) >= 3:\n",
    "                feature[str('performance_')+(j.find_elements_by_tag_name('td')[0].text)] = (j.find_elements_by_tag_name('td')[1].text)\n",
    "                \n",
    "    if 'Asset Allocation' in i.text[:17]:\n",
    "        for j in i.find_elements_by_tag_name('tr'):\n",
    "                if len(j.find_elements_by_tag_name('td')) >= 3:\n",
    "                    feature[str('asset_allocation_net_')+(j.find_elements_by_tag_name('td')[0].text)] = (j.find_elements_by_tag_name('td')[1].text)\n",
    "                    feature[str('asset_allocation_long_')+(j.find_elements_by_tag_name('td')[0].text)] = (j.find_elements_by_tag_name('td')[2].text)\n",
    "                    feature[str('asset_allocation_short_')+(j.find_elements_by_tag_name('td')[0].text)] = (j.find_elements_by_tag_name('td')[3].text)\n",
    "    \n",
    "    if i.text[:15] == 'Region Exposure':\n",
    "        for j in i.find_elements_by_tag_name('tr'):\n",
    "            feature[str('region_')+(j.find_element_by_class_name('col1').text)] = (j.find_element_by_class_name('col2').text)\n",
    "    \n",
    "    if 'Bond Exposure' in i.text[:20]:\n",
    "        for j in i.find_elements_by_tag_name('tr'):\n",
    "            feature[str('bond_exp_')+(j.find_element_by_class_name('col1').text)] = (j.find_element_by_class_name('col2').text)\n",
    "    \n",
    "    if 'Bond Maturity Exposure' in i.text[:29]:\n",
    "        for j in i.find_elements_by_tag_name('tr'):\n",
    "            feature[str('bond_maturity_')+(j.find_element_by_class_name('col1').text)] = (j.find_element_by_class_name('col2').text)\n",
    "    \n",
    "    if 'Bond Credit Quality Exposure' in i.text[:35]:\n",
    "        for j in i.find_elements_by_tag_name('tr'):\n",
    "            feature[str('bond_credit_')+(j.find_element_by_class_name('col1').text)] = (j.find_element_by_class_name('col2').text)\n",
    "    \n",
    "    if i.text[:10] == 'Basic Info':\n",
    "        for j in i.find_elements_by_tag_name('tr'):\n",
    "            if len(j.find_elements_by_tag_name('td')) == 2:\n",
    "                feature[(j.find_element_by_class_name('col1').text)] = (j.find_element_by_class_name('col2').text)\n",
    "#     if i.text[:15] == 'Net Fund Flows':\n",
    "    \n",
    "    if 'Net Fund Flows' in i.text[:30]:\n",
    "        for j in i.find_elements_by_tag_name('tr'):\n",
    "            feature[str('net_flow_')+(j.find_element_by_class_name('col1').text)] = (j.find_element_by_class_name('col2').text)\n",
    "    \n",
    "    if 'Risk Info' in i.text[:10]:\n",
    "        for j in i.find_elements_by_tag_name('tr'):\n",
    "            feature[(j.find_element_by_class_name('col1').text)] = (j.find_element_by_class_name('col2').text)\n",
    "    \n",
    "    if 'Fundamentals' in i.text[:13]:\n",
    "        for j in i.find_elements_by_tag_name('tr'):\n",
    "            feature[(j.find_element_by_class_name('col1').text)] = (j.find_element_by_class_name('col2').text)\n",
    "    \n",
    "    if 'Attributes' in i.text[:11]:\n",
    "        for j in i.find_elements_by_tag_name('tr'):\n",
    "            if len(j.find_elements_by_tag_name('td')) == 2:\n",
    "                feature[(j.find_element_by_class_name('col1').text)] = (j.find_element_by_class_name('col2').text)\n",
    "    \n",
    "    if 'Manager Info' in i.text[:13]:\n",
    "        feature['manager'] = (i.text)\n",
    "    \n",
    "    if 'Stock Sector Exposure' in i.text[:22]:\n",
    "        for j in i.find_elements_by_tag_name('tr'):\n",
    "            feature[str('stock_sector_')+(j.find_element_by_class_name('col1').text)] = (j.find_element_by_class_name('col2').text)\n",
    "    \n",
    "    if 'Stock Style Exposure' in i.text[:20]:\n",
    "        for j in i.find_elements_by_tag_name('tr'):\n",
    "            feature[str('stock_style_')+(j.find_element_by_class_name('col1').text)] = (j.find_element_by_class_name('col2').text)\n",
    "    \n",
    "    if 'Stock Market Capitalization' in i.text[:28]:\n",
    "        for j in i.find_elements_by_tag_name('tr'):\n",
    "            feature[str('stock_market_cap_')+(j.find_element_by_class_name('col1').text)] = (j.find_element_by_class_name('col2').text)\n",
    "    \n",
    "    if 'Growth Estimates' in i.text[:17]:\n",
    "        for j in i.find_elements_by_tag_name('tr'):\n",
    "            feature[str(j.find_element_by_class_name('col1').text)] = (j.find_element_by_class_name('col2').text)\n"
   ]
  },
  {
   "cell_type": "code",
   "execution_count": 488,
   "metadata": {},
   "outputs": [
    {
     "data": {
      "text/plain": [
       "150"
      ]
     },
     "execution_count": 488,
     "metadata": {},
     "output_type": "execute_result"
    }
   ],
   "source": [
    "len(feature)"
   ]
  },
  {
   "cell_type": "code",
   "execution_count": null,
   "metadata": {},
   "outputs": [],
   "source": []
  },
  {
   "cell_type": "markdown",
   "metadata": {},
   "source": [
    "## Turn selenium into beautiful soup"
   ]
  },
  {
   "cell_type": "code",
   "execution_count": 433,
   "metadata": {},
   "outputs": [],
   "source": [
    "soup=BeautifulSoup(driver.page_source, 'lxml')"
   ]
  },
  {
   "cell_type": "code",
   "execution_count": null,
   "metadata": {},
   "outputs": [],
   "source": [
    "# h1 class=\"securityName\""
   ]
  },
  {
   "cell_type": "code",
   "execution_count": null,
   "metadata": {},
   "outputs": [],
   "source": [
    "soup.findAll(\"div\", {\"class\": \"stylelistrow\"})"
   ]
  },
  {
   "cell_type": "markdown",
   "metadata": {},
   "source": [
    "#### Name"
   ]
  },
  {
   "cell_type": "code",
   "execution_count": 443,
   "metadata": {},
   "outputs": [
    {
     "data": {
      "text/plain": [
       "'Lord Abbett Short Duration Income A (LALDX)'"
      ]
     },
     "execution_count": 443,
     "metadata": {},
     "output_type": "execute_result"
    }
   ],
   "source": [
    "soup.find('h1', {'class': 'securityName'}).get_text().strip()"
   ]
  },
  {
   "cell_type": "markdown",
   "metadata": {},
   "source": [
    "#### Key Stats"
   ]
  },
  {
   "cell_type": "code",
   "execution_count": 447,
   "metadata": {},
   "outputs": [],
   "source": [
    "for i in soup.find_all('table', {'class': 'statTable'}):\n",
    "    i.get_text()"
   ]
  },
  {
   "cell_type": "code",
   "execution_count": 453,
   "metadata": {},
   "outputs": [],
   "source": [
    "keystat = soup.find_all('table', {'class': 'statTable'})"
   ]
  },
  {
   "cell_type": "code",
   "execution_count": 454,
   "metadata": {},
   "outputs": [
    {
     "ename": "AttributeError",
     "evalue": "ResultSet object has no attribute 'find_all'. You're probably treating a list of items like a single item. Did you call find_all() when you meant to call find()?",
     "output_type": "error",
     "traceback": [
      "\u001b[0;31m---------------------------------------------------------------------------\u001b[0m",
      "\u001b[0;31mAttributeError\u001b[0m                            Traceback (most recent call last)",
      "\u001b[0;32m<ipython-input-454-e40fbd31a602>\u001b[0m in \u001b[0;36m<module>\u001b[0;34m\u001b[0m\n\u001b[0;32m----> 1\u001b[0;31m \u001b[0mkeystat\u001b[0m\u001b[0;34m.\u001b[0m\u001b[0mfind_all\u001b[0m\u001b[0;34m(\u001b[0m\u001b[0;34m'table'\u001b[0m\u001b[0;34m,\u001b[0m \u001b[0;34m{\u001b[0m\u001b[0;34m'class'\u001b[0m\u001b[0;34m:\u001b[0m \u001b[0;34m'statTable'\u001b[0m\u001b[0;34m}\u001b[0m\u001b[0;34m)\u001b[0m\u001b[0;34m\u001b[0m\u001b[0;34m\u001b[0m\u001b[0m\n\u001b[0m",
      "\u001b[0;32m//anaconda3/lib/python3.7/site-packages/bs4/element.py\u001b[0m in \u001b[0;36m__getattr__\u001b[0;34m(self, key)\u001b[0m\n\u001b[1;32m   1618\u001b[0m     \u001b[0;32mdef\u001b[0m \u001b[0m__getattr__\u001b[0m\u001b[0;34m(\u001b[0m\u001b[0mself\u001b[0m\u001b[0;34m,\u001b[0m \u001b[0mkey\u001b[0m\u001b[0;34m)\u001b[0m\u001b[0;34m:\u001b[0m\u001b[0;34m\u001b[0m\u001b[0;34m\u001b[0m\u001b[0m\n\u001b[1;32m   1619\u001b[0m         raise AttributeError(\n\u001b[0;32m-> 1620\u001b[0;31m             \u001b[0;34m\"ResultSet object has no attribute '%s'. You're probably treating a list of items like a single item. Did you call find_all() when you meant to call find()?\"\u001b[0m \u001b[0;34m%\u001b[0m \u001b[0mkey\u001b[0m\u001b[0;34m\u001b[0m\u001b[0;34m\u001b[0m\u001b[0m\n\u001b[0m\u001b[1;32m   1621\u001b[0m         )\n",
      "\u001b[0;31mAttributeError\u001b[0m: ResultSet object has no attribute 'find_all'. You're probably treating a list of items like a single item. Did you call find_all() when you meant to call find()?"
     ]
    }
   ],
   "source": [
    "keystat.find_all('table', {'class': 'statTable'})"
   ]
  },
  {
   "cell_type": "code",
   "execution_count": null,
   "metadata": {},
   "outputs": [],
   "source": []
  },
  {
   "cell_type": "markdown",
   "metadata": {},
   "source": [
    "## Scrape For List of Websites/Tickers"
   ]
  },
  {
   "cell_type": "markdown",
   "metadata": {},
   "source": [
    "## Turn list of tickers into list of websites"
   ]
  },
  {
   "cell_type": "markdown",
   "metadata": {},
   "source": [
    "## Scrape list of websites for 160 features"
   ]
  },
  {
   "cell_type": "code",
   "execution_count": null,
   "metadata": {},
   "outputs": [],
   "source": []
  },
  {
   "cell_type": "code",
   "execution_count": null,
   "metadata": {},
   "outputs": [],
   "source": []
  },
  {
   "cell_type": "code",
   "execution_count": null,
   "metadata": {},
   "outputs": [],
   "source": []
  },
  {
   "cell_type": "code",
   "execution_count": null,
   "metadata": {},
   "outputs": [],
   "source": [
    "#Morningstar Quote page\n",
    "\n",
    "def name(driver):\n",
    "    return driver.find_element_by_class_name('mdc-heading--bold').text\n",
    "\n",
    "def ticker(driver):\n",
    "    return driver.find_element_by_class_name('mdc-security-header__ticker').text\n",
    "\n",
    "def nav(driver):\n",
    "    return driver.find_elements_by_class_name('ng-binding')[1].text\n",
    "\n",
    "def total_assets(driver):\n",
    "    return driver.find_elements_by_class_name('ng-binding')[4].text\n",
    "\n",
    "def exp_ratio(driver):\n",
    "    return driver.find_elements_by_class_name('ng-binding')[8].text\n",
    "\n",
    "def load(driver):\n",
    "    return driver.find_elements_by_class_name('ng-binding')[12].text\n",
    "\n",
    "def category(driver):\n",
    "    return driver.find_elements_by_class_name('ng-binding')[14].text\n",
    "\n",
    "def credit_quality(driver):\n",
    "    return driver.find_elements_by_class_name('ng-binding')[16].text\n",
    "\n",
    "def min_investment(driver):\n",
    "    return driver.find_elements_by_class_name('ng-binding')[18].text\n",
    "\n",
    "def sec_yield(driver):\n",
    "    return driver.find_elements_by_class_name('ng-binding')[22].text\n",
    "\n",
    "def turnover(driver):\n",
    "    return driver.find_elements_by_class_name('ng-binding')[24].text\n",
    "\n",
    "def table(driver):\n",
    "    return driver.find_element_by_class_name('total-table').text"
   ]
  },
  {
   "cell_type": "code",
   "execution_count": null,
   "metadata": {},
   "outputs": [],
   "source": [
    "list_of_bond_links = []"
   ]
  },
  {
   "cell_type": "code",
   "execution_count": null,
   "metadata": {},
   "outputs": [],
   "source": [
    "for i in bonds['Ticker']:\n",
    "    list_of_bond_links.append('https://www.morningstar.com/funds/xnas/{}/quote'.format(i))"
   ]
  },
  {
   "cell_type": "code",
   "execution_count": null,
   "metadata": {},
   "outputs": [],
   "source": [
    "#quote page\n",
    "#len(test)\n",
    "# funds = [] # must start\n",
    "for i in tqdm(test):\n",
    "    driver.get(i)\n",
    "    fund_features = {}\n",
    "    sequence = [x/10 for x in range(10, 18)]\n",
    "    \n",
    "    \n",
    "    time.sleep(random.choice(sequence))\n",
    "    \n",
    "    fund_features['link'] = i\n",
    "    \n",
    "    # add to dictionary\n",
    "    try:\n",
    "        fund_features['name'] = name(driver)\n",
    "    except:\n",
    "        fund_features['name'] = None\n",
    "\n",
    "    # add to dictionary\n",
    "    try:\n",
    "        fund_features['ticker'] = ticker(driver)\n",
    "    except:\n",
    "        fund_features['ticker'] = None\n",
    "\n",
    "    # add to dictionary\n",
    "    try:\n",
    "        fund_features['nav'] = nav(driver)\n",
    "    except:\n",
    "        fund_features['nav'] = None\n",
    "\n",
    "    # add to dictionary\n",
    "    try:\n",
    "        fund_features['total_assets'] = total_assets(driver)\n",
    "    except:\n",
    "        fund_features['total_assets'] = None\n",
    "\n",
    "    # add to dictionary\n",
    "    try:\n",
    "        fund_features['exp_ratio'] = exp_ratio(driver)\n",
    "    except:\n",
    "        fund_features['exp_ratio'] = None\n",
    "\n",
    "    # add to dictionary\n",
    "    try:\n",
    "        fund_features['load'] = load(driver)\n",
    "    except:\n",
    "        fund_features['load'] = None\n",
    "\n",
    "    # add to dictionary\n",
    "    try:\n",
    "        fund_features['category'] = category(driver)\n",
    "    except:\n",
    "        fund_features['category'] = None\n",
    "\n",
    "    # add to dictionary\n",
    "    try:\n",
    "        fund_features['investment_style'] = investment_style(driver)\n",
    "    except:\n",
    "        fund_features['investment_style'] = None\n",
    "\n",
    "    # add to dictionary\n",
    "    try:\n",
    "        fund_features['min_investment'] = min_investment(driver)\n",
    "    except:\n",
    "        fund_features['min_investment'] = None   \n",
    "\n",
    "\n",
    "    # add to dictionary\n",
    "    try:\n",
    "        fund_features['sec_yield'] = sec_yield(driver)\n",
    "    except:\n",
    "        fund_features['sec_yield'] = None   \n",
    "\n",
    "\n",
    "        # add to dictionary\n",
    "    try:\n",
    "        fund_features['turnover'] = turnover(driver)\n",
    "    except:\n",
    "        fund_features['turnover'] = None   \n",
    "\n",
    "        # add to dictionary\n",
    "    try:\n",
    "        fund_features['table'] = table(driver)\n",
    "    except:\n",
    "        fund_features['table'] = None   \n",
    "\n",
    "\n",
    "\n",
    "    #add to list of dictionaries\n",
    "    equity_funds.append(fund_features)\n",
    "\n",
    "    time.sleep(random.choice(sequence))"
   ]
  },
  {
   "cell_type": "code",
   "execution_count": null,
   "metadata": {},
   "outputs": [],
   "source": []
  },
  {
   "cell_type": "code",
   "execution_count": null,
   "metadata": {},
   "outputs": [],
   "source": []
  },
  {
   "cell_type": "markdown",
   "metadata": {},
   "source": [
    "# Dataframes"
   ]
  },
  {
   "cell_type": "code",
   "execution_count": 456,
   "metadata": {},
   "outputs": [],
   "source": [
    "df = pd.read_csv('all_funds_1210.csv')"
   ]
  },
  {
   "cell_type": "code",
   "execution_count": 500,
   "metadata": {},
   "outputs": [],
   "source": [
    "df.sort_values(by='Expense Ratio', ascending=False, inplace=True)"
   ]
  },
  {
   "cell_type": "code",
   "execution_count": null,
   "metadata": {},
   "outputs": [],
   "source": [
    "'https://ycharts.com/mutual_funds/M:{}'.format(x)"
   ]
  },
  {
   "cell_type": "code",
   "execution_count": null,
   "metadata": {},
   "outputs": [],
   "source": []
  },
  {
   "cell_type": "markdown",
   "metadata": {},
   "source": [
    "# Scrape"
   ]
  },
  {
   "cell_type": "code",
   "execution_count": 503,
   "metadata": {},
   "outputs": [],
   "source": [
    " tickers = df['Ticker'].tolist()"
   ]
  },
  {
   "cell_type": "code",
   "execution_count": 504,
   "metadata": {},
   "outputs": [],
   "source": [
    "fund_links = []"
   ]
  },
  {
   "cell_type": "code",
   "execution_count": 505,
   "metadata": {},
   "outputs": [],
   "source": [
    "for i in tickers:\n",
    "    fund_links.append('https://ycharts.com/mutual_funds/M:{}'.format(i))"
   ]
  },
  {
   "cell_type": "code",
   "execution_count": 506,
   "metadata": {},
   "outputs": [
    {
     "data": {
      "text/plain": [
       "['https://ycharts.com/mutual_funds/M:PMVCX',\n",
       " 'https://ycharts.com/mutual_funds/M:PGBCX',\n",
       " 'https://ycharts.com/mutual_funds/M:PAMVX',\n",
       " 'https://ycharts.com/mutual_funds/M:PAABX',\n",
       " 'https://ycharts.com/mutual_funds/M:PGSCX',\n",
       " 'https://ycharts.com/mutual_funds/M:PGCCX',\n",
       " 'https://ycharts.com/mutual_funds/M:PASMX',\n",
       " 'https://ycharts.com/mutual_funds/M:PGISX',\n",
       " 'https://ycharts.com/mutual_funds/M:PAGTX',\n",
       " 'https://ycharts.com/mutual_funds/M:PIECX',\n",
       " 'https://ycharts.com/mutual_funds/M:RYJCX',\n",
       " 'https://ycharts.com/mutual_funds/M:AMDEX',\n",
       " 'https://ycharts.com/mutual_funds/M:AMDAX',\n",
       " 'https://ycharts.com/mutual_funds/M:MIDSX',\n",
       " 'https://ycharts.com/mutual_funds/M:RYAQX',\n",
       " 'https://ycharts.com/mutual_funds/M:JMNCX',\n",
       " 'https://ycharts.com/mutual_funds/M:RYJUX',\n",
       " 'https://ycharts.com/mutual_funds/M:PMSCX',\n",
       " 'https://ycharts.com/mutual_funds/M:PADIX',\n",
       " 'https://ycharts.com/mutual_funds/M:MISEX',\n",
       " 'https://ycharts.com/mutual_funds/M:NYSAX',\n",
       " 'https://ycharts.com/mutual_funds/M:SFPCX',\n",
       " 'https://ycharts.com/mutual_funds/M:SEPCX',\n",
       " 'https://ycharts.com/mutual_funds/M:COPLX',\n",
       " 'https://ycharts.com/mutual_funds/M:FXIDX',\n",
       " 'https://ycharts.com/mutual_funds/M:WDTIX',\n",
       " 'https://ycharts.com/mutual_funds/M:DGQUX',\n",
       " 'https://ycharts.com/mutual_funds/M:GENFX',\n",
       " 'https://ycharts.com/mutual_funds/M:MCPIX',\n",
       " 'https://ycharts.com/mutual_funds/M:GENIX',\n",
       " 'https://ycharts.com/mutual_funds/M:JMNAX',\n",
       " 'https://ycharts.com/mutual_funds/M:GDLFX',\n",
       " 'https://ycharts.com/mutual_funds/M:MLPMX',\n",
       " 'https://ycharts.com/mutual_funds/M:HEOCX',\n",
       " 'https://ycharts.com/mutual_funds/M:JPPSX',\n",
       " 'https://ycharts.com/mutual_funds/M:WPITX',\n",
       " 'https://ycharts.com/mutual_funds/M:WPSMX',\n",
       " 'https://ycharts.com/mutual_funds/M:LQNIX',\n",
       " 'https://ycharts.com/mutual_funds/M:JAIMX',\n",
       " 'https://ycharts.com/mutual_funds/M:GINDX',\n",
       " 'https://ycharts.com/mutual_funds/M:SFPAX',\n",
       " 'https://ycharts.com/mutual_funds/M:SBMBX',\n",
       " 'https://ycharts.com/mutual_funds/M:MFCDX',\n",
       " 'https://ycharts.com/mutual_funds/M:JMNSX',\n",
       " 'https://ycharts.com/mutual_funds/M:DRCVX',\n",
       " 'https://ycharts.com/mutual_funds/M:TPECX',\n",
       " 'https://ycharts.com/mutual_funds/M:DGQAX',\n",
       " 'https://ycharts.com/mutual_funds/M:FASCX',\n",
       " 'https://ycharts.com/mutual_funds/M:HHCCX',\n",
       " 'https://ycharts.com/mutual_funds/M:LQISX',\n",
       " 'https://ycharts.com/mutual_funds/M:NELCX',\n",
       " 'https://ycharts.com/mutual_funds/M:INCCX',\n",
       " 'https://ycharts.com/mutual_funds/M:JPMNX',\n",
       " 'https://ycharts.com/mutual_funds/M:GCIGX',\n",
       " 'https://ycharts.com/mutual_funds/M:WAVEX',\n",
       " 'https://ycharts.com/mutual_funds/M:COAGX',\n",
       " 'https://ycharts.com/mutual_funds/M:ICDBX',\n",
       " 'https://ycharts.com/mutual_funds/M:CSHTX',\n",
       " 'https://ycharts.com/mutual_funds/M:ADOCX',\n",
       " 'https://ycharts.com/mutual_funds/M:HSZCX',\n",
       " 'https://ycharts.com/mutual_funds/M:AEQCX',\n",
       " 'https://ycharts.com/mutual_funds/M:BESMX',\n",
       " 'https://ycharts.com/mutual_funds/M:CPCRX',\n",
       " 'https://ycharts.com/mutual_funds/M:STQUX',\n",
       " 'https://ycharts.com/mutual_funds/M:ABRUX',\n",
       " 'https://ycharts.com/mutual_funds/M:WPINX',\n",
       " 'https://ycharts.com/mutual_funds/M:NABCX',\n",
       " 'https://ycharts.com/mutual_funds/M:OEPSX',\n",
       " 'https://ycharts.com/mutual_funds/M:HFXCX',\n",
       " 'https://ycharts.com/mutual_funds/M:LSEIX',\n",
       " 'https://ycharts.com/mutual_funds/M:BMPSX',\n",
       " 'https://ycharts.com/mutual_funds/M:NMECX',\n",
       " 'https://ycharts.com/mutual_funds/M:CRIHX',\n",
       " 'https://ycharts.com/mutual_funds/M:DCDGX',\n",
       " 'https://ycharts.com/mutual_funds/M:UNPSX',\n",
       " 'https://ycharts.com/mutual_funds/M:TRFCX',\n",
       " 'https://ycharts.com/mutual_funds/M:IGNBX',\n",
       " 'https://ycharts.com/mutual_funds/M:PZVLX',\n",
       " 'https://ycharts.com/mutual_funds/M:SFPIX',\n",
       " 'https://ycharts.com/mutual_funds/M:SEPIX',\n",
       " 'https://ycharts.com/mutual_funds/M:SPABX',\n",
       " 'https://ycharts.com/mutual_funds/M:LEQCX',\n",
       " 'https://ycharts.com/mutual_funds/M:OCMGX',\n",
       " 'https://ycharts.com/mutual_funds/M:LCCTX',\n",
       " 'https://ycharts.com/mutual_funds/M:WAVIX',\n",
       " 'https://ycharts.com/mutual_funds/M:HCMPX',\n",
       " 'https://ycharts.com/mutual_funds/M:LEOIX',\n",
       " 'https://ycharts.com/mutual_funds/M:AEFCX',\n",
       " 'https://ycharts.com/mutual_funds/M:MBXCX',\n",
       " 'https://ycharts.com/mutual_funds/M:PLHCX',\n",
       " 'https://ycharts.com/mutual_funds/M:LSOFX',\n",
       " 'https://ycharts.com/mutual_funds/M:CNPSX',\n",
       " 'https://ycharts.com/mutual_funds/M:PSMBX',\n",
       " 'https://ycharts.com/mutual_funds/M:PROCX',\n",
       " 'https://ycharts.com/mutual_funds/M:HEOAX',\n",
       " 'https://ycharts.com/mutual_funds/M:FYASX',\n",
       " 'https://ycharts.com/mutual_funds/M:PHPSX',\n",
       " 'https://ycharts.com/mutual_funds/M:AFPUX',\n",
       " 'https://ycharts.com/mutual_funds/M:ARLSX',\n",
       " 'https://ycharts.com/mutual_funds/M:LOTCX',\n",
       " 'https://ycharts.com/mutual_funds/M:URPSX',\n",
       " 'https://ycharts.com/mutual_funds/M:UUPSX',\n",
       " 'https://ycharts.com/mutual_funds/M:IDPSX',\n",
       " 'https://ycharts.com/mutual_funds/M:UJPSX',\n",
       " 'https://ycharts.com/mutual_funds/M:ZMNVX',\n",
       " 'https://ycharts.com/mutual_funds/M:FCAIX',\n",
       " 'https://ycharts.com/mutual_funds/M:SHPCX',\n",
       " 'https://ycharts.com/mutual_funds/M:GMCMX',\n",
       " 'https://ycharts.com/mutual_funds/M:THLSX',\n",
       " 'https://ycharts.com/mutual_funds/M:SPAIX',\n",
       " 'https://ycharts.com/mutual_funds/M:RDPSX',\n",
       " 'https://ycharts.com/mutual_funds/M:FSKKX',\n",
       " 'https://ycharts.com/mutual_funds/M:TDECX',\n",
       " 'https://ycharts.com/mutual_funds/M:TCPSX',\n",
       " 'https://ycharts.com/mutual_funds/M:MLPLX',\n",
       " 'https://ycharts.com/mutual_funds/M:AGAQX',\n",
       " 'https://ycharts.com/mutual_funds/M:BKPSX',\n",
       " 'https://ycharts.com/mutual_funds/M:DGQIX',\n",
       " 'https://ycharts.com/mutual_funds/M:MEOCX',\n",
       " 'https://ycharts.com/mutual_funds/M:EMCCX',\n",
       " 'https://ycharts.com/mutual_funds/M:SNPSX',\n",
       " 'https://ycharts.com/mutual_funds/M:UEPSX',\n",
       " 'https://ycharts.com/mutual_funds/M:MLPSX',\n",
       " 'https://ycharts.com/mutual_funds/M:SOPSX',\n",
       " 'https://ycharts.com/mutual_funds/M:UFPSX',\n",
       " 'https://ycharts.com/mutual_funds/M:UWPSX',\n",
       " 'https://ycharts.com/mutual_funds/M:UHPSX',\n",
       " 'https://ycharts.com/mutual_funds/M:SPPSX',\n",
       " 'https://ycharts.com/mutual_funds/M:UIPSX',\n",
       " 'https://ycharts.com/mutual_funds/M:AFBSX',\n",
       " 'https://ycharts.com/mutual_funds/M:LSPCX',\n",
       " 'https://ycharts.com/mutual_funds/M:SRPSX',\n",
       " 'https://ycharts.com/mutual_funds/M:UKPSX',\n",
       " 'https://ycharts.com/mutual_funds/M:FDPSX',\n",
       " 'https://ycharts.com/mutual_funds/M:UCPSX',\n",
       " 'https://ycharts.com/mutual_funds/M:UVPSX',\n",
       " 'https://ycharts.com/mutual_funds/M:SHPSX',\n",
       " 'https://ycharts.com/mutual_funds/M:LVPSX',\n",
       " 'https://ycharts.com/mutual_funds/M:RLSFX',\n",
       " 'https://ycharts.com/mutual_funds/M:USPSX',\n",
       " 'https://ycharts.com/mutual_funds/M:UXPSX',\n",
       " 'https://ycharts.com/mutual_funds/M:SLPSX',\n",
       " 'https://ycharts.com/mutual_funds/M:BRPSX',\n",
       " 'https://ycharts.com/mutual_funds/M:GGLCX',\n",
       " 'https://ycharts.com/mutual_funds/M:WPLCX',\n",
       " 'https://ycharts.com/mutual_funds/M:EBSCX',\n",
       " 'https://ycharts.com/mutual_funds/M:GBCCX',\n",
       " 'https://ycharts.com/mutual_funds/M:DCPEX',\n",
       " 'https://ycharts.com/mutual_funds/M:OTRGX',\n",
       " 'https://ycharts.com/mutual_funds/M:SVPSX',\n",
       " 'https://ycharts.com/mutual_funds/M:RTPSX',\n",
       " 'https://ycharts.com/mutual_funds/M:ENPSX',\n",
       " 'https://ycharts.com/mutual_funds/M:RYMCX',\n",
       " 'https://ycharts.com/mutual_funds/M:MGPSX',\n",
       " 'https://ycharts.com/mutual_funds/M:CNZLX',\n",
       " 'https://ycharts.com/mutual_funds/M:GRZZX',\n",
       " 'https://ycharts.com/mutual_funds/M:FNPSX',\n",
       " 'https://ycharts.com/mutual_funds/M:RYMRX',\n",
       " 'https://ycharts.com/mutual_funds/M:CPRFX',\n",
       " 'https://ycharts.com/mutual_funds/M:FFRMX',\n",
       " 'https://ycharts.com/mutual_funds/M:UGPSX',\n",
       " 'https://ycharts.com/mutual_funds/M:AAMCX',\n",
       " 'https://ycharts.com/mutual_funds/M:ACMDX',\n",
       " 'https://ycharts.com/mutual_funds/M:MFMLX',\n",
       " 'https://ycharts.com/mutual_funds/M:PZILX',\n",
       " 'https://ycharts.com/mutual_funds/M:CHNCX',\n",
       " 'https://ycharts.com/mutual_funds/M:MHFCX',\n",
       " 'https://ycharts.com/mutual_funds/M:BPLEX',\n",
       " 'https://ycharts.com/mutual_funds/M:EVOCX',\n",
       " 'https://ycharts.com/mutual_funds/M:UBPSX',\n",
       " 'https://ycharts.com/mutual_funds/M:FKLSX',\n",
       " 'https://ycharts.com/mutual_funds/M:DCSVX',\n",
       " 'https://ycharts.com/mutual_funds/M:INCAX',\n",
       " 'https://ycharts.com/mutual_funds/M:ARBCX',\n",
       " 'https://ycharts.com/mutual_funds/M:STPCX',\n",
       " 'https://ycharts.com/mutual_funds/M:UTPSX',\n",
       " 'https://ycharts.com/mutual_funds/M:MDPSX',\n",
       " 'https://ycharts.com/mutual_funds/M:TCEMX',\n",
       " 'https://ycharts.com/mutual_funds/M:ISCCX',\n",
       " 'https://ycharts.com/mutual_funds/M:ASCLX',\n",
       " 'https://ycharts.com/mutual_funds/M:ACVHX',\n",
       " 'https://ycharts.com/mutual_funds/M:SSCCX',\n",
       " 'https://ycharts.com/mutual_funds/M:SGPSX',\n",
       " 'https://ycharts.com/mutual_funds/M:MFTCX',\n",
       " 'https://ycharts.com/mutual_funds/M:QUSVX',\n",
       " 'https://ycharts.com/mutual_funds/M:NCECX',\n",
       " 'https://ycharts.com/mutual_funds/M:HHCAX',\n",
       " 'https://ycharts.com/mutual_funds/M:CPLSX',\n",
       " 'https://ycharts.com/mutual_funds/M:CPMNX',\n",
       " 'https://ycharts.com/mutual_funds/M:RYIZX',\n",
       " 'https://ycharts.com/mutual_funds/M:MFADX',\n",
       " 'https://ycharts.com/mutual_funds/M:BDMCX',\n",
       " 'https://ycharts.com/mutual_funds/M:TMACX',\n",
       " 'https://ycharts.com/mutual_funds/M:KINCX',\n",
       " 'https://ycharts.com/mutual_funds/M:SWLRX',\n",
       " 'https://ycharts.com/mutual_funds/M:REPSX',\n",
       " 'https://ycharts.com/mutual_funds/M:VCESX',\n",
       " 'https://ycharts.com/mutual_funds/M:CEXAX',\n",
       " 'https://ycharts.com/mutual_funds/M:CNREX',\n",
       " 'https://ycharts.com/mutual_funds/M:GOPCX',\n",
       " 'https://ycharts.com/mutual_funds/M:PMPSX',\n",
       " 'https://ycharts.com/mutual_funds/M:UDPSX',\n",
       " 'https://ycharts.com/mutual_funds/M:WCPSX',\n",
       " 'https://ycharts.com/mutual_funds/M:ALSIX',\n",
       " 'https://ycharts.com/mutual_funds/M:LGPSX',\n",
       " 'https://ycharts.com/mutual_funds/M:SGFCX',\n",
       " 'https://ycharts.com/mutual_funds/M:RYCYX',\n",
       " 'https://ycharts.com/mutual_funds/M:SSPLX',\n",
       " 'https://ycharts.com/mutual_funds/M:DCMDX',\n",
       " 'https://ycharts.com/mutual_funds/M:STQAX',\n",
       " 'https://ycharts.com/mutual_funds/M:RYCCX',\n",
       " 'https://ycharts.com/mutual_funds/M:INFCX',\n",
       " 'https://ycharts.com/mutual_funds/M:RYMZX',\n",
       " 'https://ycharts.com/mutual_funds/M:ADMZX',\n",
       " 'https://ycharts.com/mutual_funds/M:UAPSX',\n",
       " 'https://ycharts.com/mutual_funds/M:ETFZX',\n",
       " 'https://ycharts.com/mutual_funds/M:GHPLX',\n",
       " 'https://ycharts.com/mutual_funds/M:RYWUX',\n",
       " 'https://ycharts.com/mutual_funds/M:RYRLX',\n",
       " 'https://ycharts.com/mutual_funds/M:TPEMX',\n",
       " 'https://ycharts.com/mutual_funds/M:RYSJX',\n",
       " 'https://ycharts.com/mutual_funds/M:IBJBX',\n",
       " 'https://ycharts.com/mutual_funds/M:TEPSX',\n",
       " 'https://ycharts.com/mutual_funds/M:RYCDX',\n",
       " 'https://ycharts.com/mutual_funds/M:GPACX',\n",
       " 'https://ycharts.com/mutual_funds/M:ZMNIX',\n",
       " 'https://ycharts.com/mutual_funds/M:CYPSX',\n",
       " 'https://ycharts.com/mutual_funds/M:RLSIX',\n",
       " 'https://ycharts.com/mutual_funds/M:FKLZX',\n",
       " 'https://ycharts.com/mutual_funds/M:RYCTX',\n",
       " 'https://ycharts.com/mutual_funds/M:MYICX',\n",
       " 'https://ycharts.com/mutual_funds/M:PMKCX',\n",
       " 'https://ycharts.com/mutual_funds/M:SQBCX',\n",
       " 'https://ycharts.com/mutual_funds/M:TCWCX',\n",
       " 'https://ycharts.com/mutual_funds/M:RYCZX',\n",
       " 'https://ycharts.com/mutual_funds/M:PBRCX',\n",
       " 'https://ycharts.com/mutual_funds/M:WAFMX',\n",
       " 'https://ycharts.com/mutual_funds/M:RYCBX',\n",
       " 'https://ycharts.com/mutual_funds/M:FAAAX',\n",
       " 'https://ycharts.com/mutual_funds/M:RRPSX',\n",
       " 'https://ycharts.com/mutual_funds/M:SMPSX',\n",
       " 'https://ycharts.com/mutual_funds/M:DROCX',\n",
       " 'https://ycharts.com/mutual_funds/M:MLPNX',\n",
       " 'https://ycharts.com/mutual_funds/M:SIETX',\n",
       " 'https://ycharts.com/mutual_funds/M:RMBCX',\n",
       " 'https://ycharts.com/mutual_funds/M:CPCTX',\n",
       " 'https://ycharts.com/mutual_funds/M:HCPSX',\n",
       " 'https://ycharts.com/mutual_funds/M:GFIVX',\n",
       " 'https://ycharts.com/mutual_funds/M:RYCQX',\n",
       " 'https://ycharts.com/mutual_funds/M:TPCIX',\n",
       " 'https://ycharts.com/mutual_funds/M:SAJCX',\n",
       " 'https://ycharts.com/mutual_funds/M:IIQCX',\n",
       " 'https://ycharts.com/mutual_funds/M:CRZCX',\n",
       " 'https://ycharts.com/mutual_funds/M:SVARX',\n",
       " 'https://ycharts.com/mutual_funds/M:NELAX',\n",
       " 'https://ycharts.com/mutual_funds/M:OTRFX',\n",
       " 'https://ycharts.com/mutual_funds/M:BLPSX',\n",
       " 'https://ycharts.com/mutual_funds/M:OTCRX',\n",
       " 'https://ycharts.com/mutual_funds/M:UMPSX',\n",
       " 'https://ycharts.com/mutual_funds/M:RYWZX',\n",
       " 'https://ycharts.com/mutual_funds/M:RYACX',\n",
       " 'https://ycharts.com/mutual_funds/M:HEOZX',\n",
       " 'https://ycharts.com/mutual_funds/M:DHFCX',\n",
       " 'https://ycharts.com/mutual_funds/M:PJRBX',\n",
       " 'https://ycharts.com/mutual_funds/M:HMEZX',\n",
       " 'https://ycharts.com/mutual_funds/M:RYWJX',\n",
       " 'https://ycharts.com/mutual_funds/M:RYCMX',\n",
       " 'https://ycharts.com/mutual_funds/M:CNGLX',\n",
       " 'https://ycharts.com/mutual_funds/M:ECCGX',\n",
       " 'https://ycharts.com/mutual_funds/M:ESSCX',\n",
       " 'https://ycharts.com/mutual_funds/M:DCINX',\n",
       " 'https://ycharts.com/mutual_funds/M:EFECX',\n",
       " 'https://ycharts.com/mutual_funds/M:CACFX',\n",
       " 'https://ycharts.com/mutual_funds/M:BIPSX',\n",
       " 'https://ycharts.com/mutual_funds/M:CTVCX',\n",
       " 'https://ycharts.com/mutual_funds/M:AFDDX',\n",
       " 'https://ycharts.com/mutual_funds/M:OTPSX',\n",
       " 'https://ycharts.com/mutual_funds/M:RYMJX',\n",
       " 'https://ycharts.com/mutual_funds/M:RYUCX',\n",
       " 'https://ycharts.com/mutual_funds/M:BHTCX',\n",
       " 'https://ycharts.com/mutual_funds/M:EIPIX',\n",
       " 'https://ycharts.com/mutual_funds/M:SDFCX',\n",
       " 'https://ycharts.com/mutual_funds/M:IOFCX',\n",
       " 'https://ycharts.com/mutual_funds/M:UOPSX',\n",
       " 'https://ycharts.com/mutual_funds/M:ICBCX',\n",
       " 'https://ycharts.com/mutual_funds/M:RYCEX',\n",
       " 'https://ycharts.com/mutual_funds/M:DDDCX',\n",
       " 'https://ycharts.com/mutual_funds/M:ADMWX',\n",
       " 'https://ycharts.com/mutual_funds/M:ICEEX',\n",
       " 'https://ycharts.com/mutual_funds/M:ACDCX',\n",
       " 'https://ycharts.com/mutual_funds/M:ULPSX',\n",
       " 'https://ycharts.com/mutual_funds/M:AGAZX',\n",
       " 'https://ycharts.com/mutual_funds/M:INPSX',\n",
       " 'https://ycharts.com/mutual_funds/M:RYDCX',\n",
       " 'https://ycharts.com/mutual_funds/M:PDFDX',\n",
       " 'https://ycharts.com/mutual_funds/M:GTCCX',\n",
       " 'https://ycharts.com/mutual_funds/M:RSGCX',\n",
       " 'https://ycharts.com/mutual_funds/M:RYISX',\n",
       " 'https://ycharts.com/mutual_funds/M:SWKRX',\n",
       " 'https://ycharts.com/mutual_funds/M:OCMAX',\n",
       " 'https://ycharts.com/mutual_funds/M:OSFCX',\n",
       " 'https://ycharts.com/mutual_funds/M:AIOCX',\n",
       " 'https://ycharts.com/mutual_funds/M:SPMCX',\n",
       " 'https://ycharts.com/mutual_funds/M:HCMDX',\n",
       " 'https://ycharts.com/mutual_funds/M:QUAGX',\n",
       " 'https://ycharts.com/mutual_funds/M:SIRCX',\n",
       " 'https://ycharts.com/mutual_funds/M:APITX',\n",
       " 'https://ycharts.com/mutual_funds/M:WFECX',\n",
       " 'https://ycharts.com/mutual_funds/M:DWATX',\n",
       " 'https://ycharts.com/mutual_funds/M:GSYCX',\n",
       " 'https://ycharts.com/mutual_funds/M:RYBCX',\n",
       " 'https://ycharts.com/mutual_funds/M:GTTMX',\n",
       " 'https://ycharts.com/mutual_funds/M:RYCLX',\n",
       " 'https://ycharts.com/mutual_funds/M:GACCX',\n",
       " 'https://ycharts.com/mutual_funds/M:VARAX',\n",
       " 'https://ycharts.com/mutual_funds/M:ASFTX',\n",
       " 'https://ycharts.com/mutual_funds/M:GAIGX',\n",
       " 'https://ycharts.com/mutual_funds/M:KAUBX',\n",
       " 'https://ycharts.com/mutual_funds/M:KAUCX',\n",
       " 'https://ycharts.com/mutual_funds/M:GTAPX',\n",
       " 'https://ycharts.com/mutual_funds/M:ABRFX',\n",
       " 'https://ycharts.com/mutual_funds/M:TPICX',\n",
       " 'https://ycharts.com/mutual_funds/M:MCLTX',\n",
       " 'https://ycharts.com/mutual_funds/M:RYCFX',\n",
       " 'https://ycharts.com/mutual_funds/M:RYFCX',\n",
       " 'https://ycharts.com/mutual_funds/M:RYKCX',\n",
       " 'https://ycharts.com/mutual_funds/M:RYLCX',\n",
       " 'https://ycharts.com/mutual_funds/M:RYCHX',\n",
       " 'https://ycharts.com/mutual_funds/M:RYICX',\n",
       " 'https://ycharts.com/mutual_funds/M:PTWBX',\n",
       " 'https://ycharts.com/mutual_funds/M:RYHCX',\n",
       " 'https://ycharts.com/mutual_funds/M:VSLCX',\n",
       " 'https://ycharts.com/mutual_funds/M:RYCNX',\n",
       " 'https://ycharts.com/mutual_funds/M:GWSCX',\n",
       " 'https://ycharts.com/mutual_funds/M:RYCPX',\n",
       " 'https://ycharts.com/mutual_funds/M:RYCUX',\n",
       " 'https://ycharts.com/mutual_funds/M:RYRCX',\n",
       " 'https://ycharts.com/mutual_funds/M:RYCSX',\n",
       " 'https://ycharts.com/mutual_funds/M:RYCRX',\n",
       " 'https://ycharts.com/mutual_funds/M:RYROX',\n",
       " 'https://ycharts.com/mutual_funds/M:MLCPX',\n",
       " 'https://ycharts.com/mutual_funds/M:RYECX',\n",
       " 'https://ycharts.com/mutual_funds/M:SAOCX',\n",
       " 'https://ycharts.com/mutual_funds/M:TGFRX',\n",
       " 'https://ycharts.com/mutual_funds/M:ACDHX',\n",
       " 'https://ycharts.com/mutual_funds/M:ASFCX',\n",
       " 'https://ycharts.com/mutual_funds/M:RYSCX',\n",
       " 'https://ycharts.com/mutual_funds/M:RYVCX',\n",
       " 'https://ycharts.com/mutual_funds/M:SFHYX',\n",
       " 'https://ycharts.com/mutual_funds/M:EMVCX',\n",
       " 'https://ycharts.com/mutual_funds/M:CNWDX',\n",
       " 'https://ycharts.com/mutual_funds/M:NLSCX',\n",
       " 'https://ycharts.com/mutual_funds/M:WFCAX',\n",
       " 'https://ycharts.com/mutual_funds/M:IRSBX',\n",
       " 'https://ycharts.com/mutual_funds/M:ROFCX',\n",
       " 'https://ycharts.com/mutual_funds/M:FTGOX',\n",
       " 'https://ycharts.com/mutual_funds/M:DCAVX',\n",
       " 'https://ycharts.com/mutual_funds/M:BPLSX',\n",
       " 'https://ycharts.com/mutual_funds/M:MLXCX',\n",
       " 'https://ycharts.com/mutual_funds/M:WFDFX',\n",
       " 'https://ycharts.com/mutual_funds/M:TCAGX',\n",
       " 'https://ycharts.com/mutual_funds/M:EGLCX',\n",
       " 'https://ycharts.com/mutual_funds/M:RVFCX',\n",
       " 'https://ycharts.com/mutual_funds/M:JLPCX',\n",
       " 'https://ycharts.com/mutual_funds/M:LCTRX',\n",
       " 'https://ycharts.com/mutual_funds/M:EQICX',\n",
       " 'https://ycharts.com/mutual_funds/M:HSZAX',\n",
       " 'https://ycharts.com/mutual_funds/M:VAACX',\n",
       " 'https://ycharts.com/mutual_funds/M:REMCX',\n",
       " 'https://ycharts.com/mutual_funds/M:SLAPX',\n",
       " 'https://ycharts.com/mutual_funds/M:RYSYX',\n",
       " 'https://ycharts.com/mutual_funds/M:SPEDX',\n",
       " 'https://ycharts.com/mutual_funds/M:AEQAX',\n",
       " 'https://ycharts.com/mutual_funds/M:AGMZX',\n",
       " 'https://ycharts.com/mutual_funds/M:AGAWX',\n",
       " 'https://ycharts.com/mutual_funds/M:LMAQX',\n",
       " 'https://ycharts.com/mutual_funds/M:PCREX',\n",
       " 'https://ycharts.com/mutual_funds/M:IVIBX',\n",
       " 'https://ycharts.com/mutual_funds/M:KNPCX',\n",
       " 'https://ycharts.com/mutual_funds/M:QSVIX',\n",
       " 'https://ycharts.com/mutual_funds/M:IPOBX',\n",
       " 'https://ycharts.com/mutual_funds/M:CURCX',\n",
       " 'https://ycharts.com/mutual_funds/M:GHUCX',\n",
       " 'https://ycharts.com/mutual_funds/M:KSOCX',\n",
       " 'https://ycharts.com/mutual_funds/M:WEQCX',\n",
       " 'https://ycharts.com/mutual_funds/M:JHACX',\n",
       " 'https://ycharts.com/mutual_funds/M:CPLIX',\n",
       " 'https://ycharts.com/mutual_funds/M:ALICX',\n",
       " 'https://ycharts.com/mutual_funds/M:STTCX',\n",
       " 'https://ycharts.com/mutual_funds/M:RGSCX',\n",
       " 'https://ycharts.com/mutual_funds/M:SUNCX',\n",
       " 'https://ycharts.com/mutual_funds/M:RYZCX',\n",
       " 'https://ycharts.com/mutual_funds/M:SFLCX',\n",
       " 'https://ycharts.com/mutual_funds/M:RYMMX',\n",
       " 'https://ycharts.com/mutual_funds/M:TGCIX',\n",
       " 'https://ycharts.com/mutual_funds/M:DEMCX',\n",
       " 'https://ycharts.com/mutual_funds/M:MINEX',\n",
       " 'https://ycharts.com/mutual_funds/M:MFLDX',\n",
       " 'https://ycharts.com/mutual_funds/M:RYFTX',\n",
       " 'https://ycharts.com/mutual_funds/M:IEACX',\n",
       " 'https://ycharts.com/mutual_funds/M:MIECX',\n",
       " 'https://ycharts.com/mutual_funds/M:DCFGX',\n",
       " 'https://ycharts.com/mutual_funds/M:RYVVX',\n",
       " 'https://ycharts.com/mutual_funds/M:DWTTX',\n",
       " 'https://ycharts.com/mutual_funds/M:AFPAX',\n",
       " 'https://ycharts.com/mutual_funds/M:RYGRX',\n",
       " 'https://ycharts.com/mutual_funds/M:ACCOX',\n",
       " 'https://ycharts.com/mutual_funds/M:BIPLX',\n",
       " 'https://ycharts.com/mutual_funds/M:DHACX',\n",
       " 'https://ycharts.com/mutual_funds/M:RYYCX',\n",
       " 'https://ycharts.com/mutual_funds/M:ECGIX',\n",
       " 'https://ycharts.com/mutual_funds/M:HHCZX',\n",
       " 'https://ycharts.com/mutual_funds/M:RYCKX',\n",
       " 'https://ycharts.com/mutual_funds/M:RYWCX',\n",
       " 'https://ycharts.com/mutual_funds/M:RYCOX',\n",
       " 'https://ycharts.com/mutual_funds/M:FEDGX',\n",
       " 'https://ycharts.com/mutual_funds/M:USPCX',\n",
       " 'https://ycharts.com/mutual_funds/M:EMGCX',\n",
       " 'https://ycharts.com/mutual_funds/M:MINBX',\n",
       " 'https://ycharts.com/mutual_funds/M:NEMCX',\n",
       " 'https://ycharts.com/mutual_funds/M:RYIYX',\n",
       " 'https://ycharts.com/mutual_funds/M:RYHHX',\n",
       " 'https://ycharts.com/mutual_funds/M:VHFCX',\n",
       " 'https://ycharts.com/mutual_funds/M:FEMCX',\n",
       " 'https://ycharts.com/mutual_funds/M:TMCLX',\n",
       " 'https://ycharts.com/mutual_funds/M:TGRCX',\n",
       " 'https://ycharts.com/mutual_funds/M:RYNCX',\n",
       " 'https://ycharts.com/mutual_funds/M:OFSCX',\n",
       " 'https://ycharts.com/mutual_funds/M:IDVCX',\n",
       " 'https://ycharts.com/mutual_funds/M:FOVCX',\n",
       " 'https://ycharts.com/mutual_funds/M:SWFCX',\n",
       " 'https://ycharts.com/mutual_funds/M:GLDCX',\n",
       " 'https://ycharts.com/mutual_funds/M:GVPSX',\n",
       " 'https://ycharts.com/mutual_funds/M:CASTX',\n",
       " 'https://ycharts.com/mutual_funds/M:NABAX',\n",
       " 'https://ycharts.com/mutual_funds/M:GNDCX',\n",
       " 'https://ycharts.com/mutual_funds/M:MMECX',\n",
       " 'https://ycharts.com/mutual_funds/M:PURBX',\n",
       " 'https://ycharts.com/mutual_funds/M:ARCCX',\n",
       " 'https://ycharts.com/mutual_funds/M:EEMCX',\n",
       " 'https://ycharts.com/mutual_funds/M:HFXAX',\n",
       " 'https://ycharts.com/mutual_funds/M:IEMJX',\n",
       " 'https://ycharts.com/mutual_funds/M:ACEMX',\n",
       " 'https://ycharts.com/mutual_funds/M:NWLGX',\n",
       " 'https://ycharts.com/mutual_funds/M:APILX',\n",
       " 'https://ycharts.com/mutual_funds/M:FTICX',\n",
       " 'https://ycharts.com/mutual_funds/M:GRMMX',\n",
       " 'https://ycharts.com/mutual_funds/M:IEGCX',\n",
       " 'https://ycharts.com/mutual_funds/M:JAMFX',\n",
       " 'https://ycharts.com/mutual_funds/M:SCVFX',\n",
       " 'https://ycharts.com/mutual_funds/M:TIEMX',\n",
       " 'https://ycharts.com/mutual_funds/M:LSQCX',\n",
       " 'https://ycharts.com/mutual_funds/M:CAJCX',\n",
       " 'https://ycharts.com/mutual_funds/M:SNOCX',\n",
       " 'https://ycharts.com/mutual_funds/M:JACRX',\n",
       " 'https://ycharts.com/mutual_funds/M:IOLCX',\n",
       " 'https://ycharts.com/mutual_funds/M:TRICX',\n",
       " 'https://ycharts.com/mutual_funds/M:EMRCX',\n",
       " 'https://ycharts.com/mutual_funds/M:ABICX',\n",
       " 'https://ycharts.com/mutual_funds/M:TLGCX',\n",
       " 'https://ycharts.com/mutual_funds/M:AUERX',\n",
       " 'https://ycharts.com/mutual_funds/M:FABZX',\n",
       " 'https://ycharts.com/mutual_funds/M:GRRCX',\n",
       " 'https://ycharts.com/mutual_funds/M:RYJTX',\n",
       " 'https://ycharts.com/mutual_funds/M:GOPRX',\n",
       " 'https://ycharts.com/mutual_funds/M:PUFBX',\n",
       " 'https://ycharts.com/mutual_funds/M:EGRCX',\n",
       " 'https://ycharts.com/mutual_funds/M:ACPHX',\n",
       " 'https://ycharts.com/mutual_funds/M:PEFCX',\n",
       " 'https://ycharts.com/mutual_funds/M:CSACX',\n",
       " 'https://ycharts.com/mutual_funds/M:EKGCX',\n",
       " 'https://ycharts.com/mutual_funds/M:TSVCX',\n",
       " 'https://ycharts.com/mutual_funds/M:ETFCX',\n",
       " 'https://ycharts.com/mutual_funds/M:JDIEX',\n",
       " 'https://ycharts.com/mutual_funds/M:HOPCX',\n",
       " 'https://ycharts.com/mutual_funds/M:CVLCX',\n",
       " 'https://ycharts.com/mutual_funds/M:LAACX',\n",
       " 'https://ycharts.com/mutual_funds/M:GEMCX',\n",
       " 'https://ycharts.com/mutual_funds/M:MHYCX',\n",
       " 'https://ycharts.com/mutual_funds/M:MGHBX',\n",
       " 'https://ycharts.com/mutual_funds/M:DHQCX',\n",
       " 'https://ycharts.com/mutual_funds/M:WEMCX',\n",
       " 'https://ycharts.com/mutual_funds/M:LIONX',\n",
       " 'https://ycharts.com/mutual_funds/M:VAPCX',\n",
       " 'https://ycharts.com/mutual_funds/M:JMCGX',\n",
       " 'https://ycharts.com/mutual_funds/M:TNSCX',\n",
       " 'https://ycharts.com/mutual_funds/M:LCATX',\n",
       " 'https://ycharts.com/mutual_funds/M:WSCDX',\n",
       " 'https://ycharts.com/mutual_funds/M:MOPCX',\n",
       " 'https://ycharts.com/mutual_funds/M:NWGQX',\n",
       " 'https://ycharts.com/mutual_funds/M:ETCHX',\n",
       " 'https://ycharts.com/mutual_funds/M:MLPGX',\n",
       " 'https://ycharts.com/mutual_funds/M:GAFCX',\n",
       " 'https://ycharts.com/mutual_funds/M:OCSGX',\n",
       " 'https://ycharts.com/mutual_funds/M:CSHCX',\n",
       " 'https://ycharts.com/mutual_funds/M:NELIX',\n",
       " 'https://ycharts.com/mutual_funds/M:NARCX',\n",
       " 'https://ycharts.com/mutual_funds/M:MOTBX',\n",
       " 'https://ycharts.com/mutual_funds/M:NGCCX',\n",
       " 'https://ycharts.com/mutual_funds/M:IATBX',\n",
       " 'https://ycharts.com/mutual_funds/M:WARCX',\n",
       " 'https://ycharts.com/mutual_funds/M:CLTCX',\n",
       " 'https://ycharts.com/mutual_funds/M:SMBCX',\n",
       " 'https://ycharts.com/mutual_funds/M:PICEX',\n",
       " 'https://ycharts.com/mutual_funds/M:VCISX',\n",
       " 'https://ycharts.com/mutual_funds/M:ANOCX',\n",
       " 'https://ycharts.com/mutual_funds/M:OMOAX',\n",
       " 'https://ycharts.com/mutual_funds/M:OTTRX',\n",
       " 'https://ycharts.com/mutual_funds/M:DADGX',\n",
       " 'https://ycharts.com/mutual_funds/M:FATJX',\n",
       " 'https://ycharts.com/mutual_funds/M:CGMCX',\n",
       " 'https://ycharts.com/mutual_funds/M:MYCCX',\n",
       " 'https://ycharts.com/mutual_funds/M:RINCX',\n",
       " 'https://ycharts.com/mutual_funds/M:RGNCX',\n",
       " 'https://ycharts.com/mutual_funds/M:MFRIX',\n",
       " 'https://ycharts.com/mutual_funds/M:SUFCX',\n",
       " 'https://ycharts.com/mutual_funds/M:TSNCX',\n",
       " 'https://ycharts.com/mutual_funds/M:NMAEX',\n",
       " 'https://ycharts.com/mutual_funds/M:INSCX',\n",
       " 'https://ycharts.com/mutual_funds/M:GSACX',\n",
       " 'https://ycharts.com/mutual_funds/M:JLPZX',\n",
       " 'https://ycharts.com/mutual_funds/M:BUYCX',\n",
       " 'https://ycharts.com/mutual_funds/M:CATDX',\n",
       " 'https://ycharts.com/mutual_funds/M:FXFIX',\n",
       " 'https://ycharts.com/mutual_funds/M:IRECX',\n",
       " 'https://ycharts.com/mutual_funds/M:EGWCX',\n",
       " 'https://ycharts.com/mutual_funds/M:FICSX',\n",
       " 'https://ycharts.com/mutual_funds/M:TVCFX',\n",
       " 'https://ycharts.com/mutual_funds/M:ROBCX',\n",
       " 'https://ycharts.com/mutual_funds/M:CASCX',\n",
       " 'https://ycharts.com/mutual_funds/M:SFECX',\n",
       " 'https://ycharts.com/mutual_funds/M:TRFAX',\n",
       " 'https://ycharts.com/mutual_funds/M:TBDBX',\n",
       " 'https://ycharts.com/mutual_funds/M:RPRCX',\n",
       " 'https://ycharts.com/mutual_funds/M:EMACX',\n",
       " 'https://ycharts.com/mutual_funds/M:CFHAX',\n",
       " 'https://ycharts.com/mutual_funds/M:GLNCX',\n",
       " 'https://ycharts.com/mutual_funds/M:RSQCX',\n",
       " 'https://ycharts.com/mutual_funds/M:SMFPX',\n",
       " 'https://ycharts.com/mutual_funds/M:GLNJX',\n",
       " 'https://ycharts.com/mutual_funds/M:CATOX',\n",
       " 'https://ycharts.com/mutual_funds/M:ATCSX',\n",
       " 'https://ycharts.com/mutual_funds/M:AUUCX',\n",
       " 'https://ycharts.com/mutual_funds/M:PXRCX',\n",
       " 'https://ycharts.com/mutual_funds/M:ATMSX',\n",
       " 'https://ycharts.com/mutual_funds/M:ICNCX',\n",
       " 'https://ycharts.com/mutual_funds/M:PVNBX',\n",
       " 'https://ycharts.com/mutual_funds/M:GHTCX',\n",
       " 'https://ycharts.com/mutual_funds/M:JSCGX',\n",
       " 'https://ycharts.com/mutual_funds/M:PGJCX',\n",
       " 'https://ycharts.com/mutual_funds/M:GCCEX',\n",
       " 'https://ycharts.com/mutual_funds/M:LSHCX',\n",
       " 'https://ycharts.com/mutual_funds/M:ACECX',\n",
       " 'https://ycharts.com/mutual_funds/M:SIECX',\n",
       " 'https://ycharts.com/mutual_funds/M:PJRCX',\n",
       " 'https://ycharts.com/mutual_funds/M:APJCX',\n",
       " 'https://ycharts.com/mutual_funds/M:SNWCX',\n",
       " 'https://ycharts.com/mutual_funds/M:CHUCX',\n",
       " 'https://ycharts.com/mutual_funds/M:DABCX',\n",
       " 'https://ycharts.com/mutual_funds/M:HDOGX',\n",
       " 'https://ycharts.com/mutual_funds/M:CADAX',\n",
       " 'https://ycharts.com/mutual_funds/M:PUVCX',\n",
       " 'https://ycharts.com/mutual_funds/M:CFGAX',\n",
       " 'https://ycharts.com/mutual_funds/M:CAHIX',\n",
       " 'https://ycharts.com/mutual_funds/M:GLNBX',\n",
       " 'https://ycharts.com/mutual_funds/M:IYSBX',\n",
       " 'https://ycharts.com/mutual_funds/M:CMSYX',\n",
       " 'https://ycharts.com/mutual_funds/M:ASVNX',\n",
       " 'https://ycharts.com/mutual_funds/M:CPNCX',\n",
       " 'https://ycharts.com/mutual_funds/M:MAWCX',\n",
       " 'https://ycharts.com/mutual_funds/M:BTFCX',\n",
       " 'https://ycharts.com/mutual_funds/M:VICCX',\n",
       " 'https://ycharts.com/mutual_funds/M:DCAIX',\n",
       " 'https://ycharts.com/mutual_funds/M:RVPCX',\n",
       " 'https://ycharts.com/mutual_funds/M:PTCFX',\n",
       " 'https://ycharts.com/mutual_funds/M:GMSCX',\n",
       " 'https://ycharts.com/mutual_funds/M:KMDCX',\n",
       " 'https://ycharts.com/mutual_funds/M:HRSAX',\n",
       " 'https://ycharts.com/mutual_funds/M:THDCX',\n",
       " 'https://ycharts.com/mutual_funds/M:LEQAX',\n",
       " 'https://ycharts.com/mutual_funds/M:LMOPX',\n",
       " 'https://ycharts.com/mutual_funds/M:MAWBX',\n",
       " 'https://ycharts.com/mutual_funds/M:DPFAX',\n",
       " 'https://ycharts.com/mutual_funds/M:DPICX',\n",
       " 'https://ycharts.com/mutual_funds/M:FNKCX',\n",
       " 'https://ycharts.com/mutual_funds/M:ATGCX',\n",
       " 'https://ycharts.com/mutual_funds/M:RCGTX',\n",
       " 'https://ycharts.com/mutual_funds/M:ABRTX',\n",
       " 'https://ycharts.com/mutual_funds/M:QAGIX',\n",
       " 'https://ycharts.com/mutual_funds/M:JOELX',\n",
       " 'https://ycharts.com/mutual_funds/M:GERCX',\n",
       " 'https://ycharts.com/mutual_funds/M:NOVIX',\n",
       " 'https://ycharts.com/mutual_funds/M:FASRX',\n",
       " 'https://ycharts.com/mutual_funds/M:WFSFX',\n",
       " 'https://ycharts.com/mutual_funds/M:QBLGX',\n",
       " 'https://ycharts.com/mutual_funds/M:ASANX',\n",
       " 'https://ycharts.com/mutual_funds/M:QCLGX',\n",
       " 'https://ycharts.com/mutual_funds/M:RCGHX',\n",
       " 'https://ycharts.com/mutual_funds/M:IQDAX',\n",
       " 'https://ycharts.com/mutual_funds/M:IGDCX',\n",
       " 'https://ycharts.com/mutual_funds/M:IYVBX',\n",
       " 'https://ycharts.com/mutual_funds/M:HIICX',\n",
       " 'https://ycharts.com/mutual_funds/M:EWECX',\n",
       " 'https://ycharts.com/mutual_funds/M:TCGCX',\n",
       " 'https://ycharts.com/mutual_funds/M:SHPAX',\n",
       " 'https://ycharts.com/mutual_funds/M:WSICX',\n",
       " 'https://ycharts.com/mutual_funds/M:FOPCX',\n",
       " 'https://ycharts.com/mutual_funds/M:WSGBX',\n",
       " 'https://ycharts.com/mutual_funds/M:RGECX',\n",
       " 'https://ycharts.com/mutual_funds/M:RYTCX',\n",
       " 'https://ycharts.com/mutual_funds/M:OCSVX',\n",
       " 'https://ycharts.com/mutual_funds/M:IEYBX',\n",
       " 'https://ycharts.com/mutual_funds/M:ALGCX',\n",
       " 'https://ycharts.com/mutual_funds/M:CCCCX',\n",
       " 'https://ycharts.com/mutual_funds/M:WAIOX',\n",
       " 'https://ycharts.com/mutual_funds/M:FAINX',\n",
       " 'https://ycharts.com/mutual_funds/M:DBECX',\n",
       " 'https://ycharts.com/mutual_funds/M:GHACX',\n",
       " 'https://ycharts.com/mutual_funds/M:HERCX',\n",
       " 'https://ycharts.com/mutual_funds/M:CAECX',\n",
       " 'https://ycharts.com/mutual_funds/M:IOCCX',\n",
       " 'https://ycharts.com/mutual_funds/M:GARIX',\n",
       " 'https://ycharts.com/mutual_funds/M:FGTNX',\n",
       " 'https://ycharts.com/mutual_funds/M:ASICX',\n",
       " 'https://ycharts.com/mutual_funds/M:DCEMX',\n",
       " 'https://ycharts.com/mutual_funds/M:EISDX',\n",
       " 'https://ycharts.com/mutual_funds/M:PRPCX',\n",
       " 'https://ycharts.com/mutual_funds/M:BCLPX',\n",
       " 'https://ycharts.com/mutual_funds/M:RQIAX',\n",
       " 'https://ycharts.com/mutual_funds/M:RQEAX',\n",
       " 'https://ycharts.com/mutual_funds/M:IIGCX',\n",
       " 'https://ycharts.com/mutual_funds/M:NEJCX',\n",
       " 'https://ycharts.com/mutual_funds/M:MFMPX',\n",
       " 'https://ycharts.com/mutual_funds/M:VGECX',\n",
       " 'https://ycharts.com/mutual_funds/M:CDCRX',\n",
       " 'https://ycharts.com/mutual_funds/M:CEMTX',\n",
       " 'https://ycharts.com/mutual_funds/M:AGSCX',\n",
       " 'https://ycharts.com/mutual_funds/M:RTSCX',\n",
       " 'https://ycharts.com/mutual_funds/M:GLPCX',\n",
       " 'https://ycharts.com/mutual_funds/M:HCMNX',\n",
       " 'https://ycharts.com/mutual_funds/M:AWPCX',\n",
       " 'https://ycharts.com/mutual_funds/M:GLLCX',\n",
       " 'https://ycharts.com/mutual_funds/M:IRSCX',\n",
       " 'https://ycharts.com/mutual_funds/M:OFALX',\n",
       " 'https://ycharts.com/mutual_funds/M:ETCGX',\n",
       " 'https://ycharts.com/mutual_funds/M:RINPX',\n",
       " 'https://ycharts.com/mutual_funds/M:PRGNX',\n",
       " 'https://ycharts.com/mutual_funds/M:FMCKX',\n",
       " 'https://ycharts.com/mutual_funds/M:AGFCX',\n",
       " 'https://ycharts.com/mutual_funds/M:SUVCX',\n",
       " 'https://ycharts.com/mutual_funds/M:AGEAX',\n",
       " 'https://ycharts.com/mutual_funds/M:GVCCX',\n",
       " 'https://ycharts.com/mutual_funds/M:REQCX',\n",
       " 'https://ycharts.com/mutual_funds/M:RSGFX',\n",
       " 'https://ycharts.com/mutual_funds/M:TSFCX',\n",
       " 'https://ycharts.com/mutual_funds/M:ECEMX',\n",
       " 'https://ycharts.com/mutual_funds/M:ARMCX',\n",
       " 'https://ycharts.com/mutual_funds/M:MCLGX',\n",
       " 'https://ycharts.com/mutual_funds/M:MCLAX',\n",
       " 'https://ycharts.com/mutual_funds/M:SPWCX',\n",
       " 'https://ycharts.com/mutual_funds/M:MFTTX',\n",
       " 'https://ycharts.com/mutual_funds/M:AVGCX',\n",
       " 'https://ycharts.com/mutual_funds/M:SFVTX',\n",
       " 'https://ycharts.com/mutual_funds/M:TPHCX',\n",
       " 'https://ycharts.com/mutual_funds/M:AREBX',\n",
       " 'https://ycharts.com/mutual_funds/M:IREBX',\n",
       " 'https://ycharts.com/mutual_funds/M:ATQIX',\n",
       " 'https://ycharts.com/mutual_funds/M:FTCEX',\n",
       " 'https://ycharts.com/mutual_funds/M:MCCGX',\n",
       " 'https://ycharts.com/mutual_funds/M:VKPCX',\n",
       " 'https://ycharts.com/mutual_funds/M:AEDFX',\n",
       " 'https://ycharts.com/mutual_funds/M:MBXAX',\n",
       " 'https://ycharts.com/mutual_funds/M:AIWCX',\n",
       " 'https://ycharts.com/mutual_funds/M:TLVCX',\n",
       " 'https://ycharts.com/mutual_funds/M:MEMCX',\n",
       " 'https://ycharts.com/mutual_funds/M:VARBX',\n",
       " 'https://ycharts.com/mutual_funds/M:ECDCX',\n",
       " 'https://ycharts.com/mutual_funds/M:LFMAX',\n",
       " 'https://ycharts.com/mutual_funds/M:MEMRX',\n",
       " 'https://ycharts.com/mutual_funds/M:ESMCX',\n",
       " 'https://ycharts.com/mutual_funds/M:MEMBX',\n",
       " 'https://ycharts.com/mutual_funds/M:WMMCX',\n",
       " 'https://ycharts.com/mutual_funds/M:HSZYX',\n",
       " 'https://ycharts.com/mutual_funds/M:ALNAX',\n",
       " 'https://ycharts.com/mutual_funds/M:EVDAX',\n",
       " 'https://ycharts.com/mutual_funds/M:INFFX',\n",
       " 'https://ycharts.com/mutual_funds/M:ICEWX',\n",
       " 'https://ycharts.com/mutual_funds/M:ASRLX',\n",
       " 'https://ycharts.com/mutual_funds/M:LPFCX',\n",
       " 'https://ycharts.com/mutual_funds/M:LAUCX',\n",
       " 'https://ycharts.com/mutual_funds/M:WFTCX',\n",
       " 'https://ycharts.com/mutual_funds/M:MCVSX',\n",
       " 'https://ycharts.com/mutual_funds/M:MARNX',\n",
       " 'https://ycharts.com/mutual_funds/M:ACVWX',\n",
       " 'https://ycharts.com/mutual_funds/M:REGWX',\n",
       " 'https://ycharts.com/mutual_funds/M:LCMCX',\n",
       " 'https://ycharts.com/mutual_funds/M:UPUPX',\n",
       " 'https://ycharts.com/mutual_funds/M:HEMCX',\n",
       " 'https://ycharts.com/mutual_funds/M:AFLKX',\n",
       " 'https://ycharts.com/mutual_funds/M:FCSMX',\n",
       " 'https://ycharts.com/mutual_funds/M:AEQIX',\n",
       " 'https://ycharts.com/mutual_funds/M:INCIX',\n",
       " 'https://ycharts.com/mutual_funds/M:PLHAX',\n",
       " 'https://ycharts.com/mutual_funds/M:SDRCX',\n",
       " 'https://ycharts.com/mutual_funds/M:ARYCX',\n",
       " 'https://ycharts.com/mutual_funds/M:IVNCX',\n",
       " 'https://ycharts.com/mutual_funds/M:WFEFX',\n",
       " 'https://ycharts.com/mutual_funds/M:LCLCX',\n",
       " 'https://ycharts.com/mutual_funds/M:ASTZX',\n",
       " 'https://ycharts.com/mutual_funds/M:KMKCX',\n",
       " 'https://ycharts.com/mutual_funds/M:EMECX',\n",
       " 'https://ycharts.com/mutual_funds/M:WFBCX',\n",
       " 'https://ycharts.com/mutual_funds/M:PSKCX',\n",
       " 'https://ycharts.com/mutual_funds/M:SMBAX',\n",
       " 'https://ycharts.com/mutual_funds/M:DLPCX',\n",
       " 'https://ycharts.com/mutual_funds/M:MERBX',\n",
       " 'https://ycharts.com/mutual_funds/M:WFGWX',\n",
       " 'https://ycharts.com/mutual_funds/M:VGSCX',\n",
       " 'https://ycharts.com/mutual_funds/M:CSPGX',\n",
       " 'https://ycharts.com/mutual_funds/M:SLVCX',\n",
       " 'https://ycharts.com/mutual_funds/M:LFFCX',\n",
       " 'https://ycharts.com/mutual_funds/M:ACIKX',\n",
       " 'https://ycharts.com/mutual_funds/M:FEAMX',\n",
       " 'https://ycharts.com/mutual_funds/M:CPVCX',\n",
       " 'https://ycharts.com/mutual_funds/M:CCGEX',\n",
       " 'https://ycharts.com/mutual_funds/M:FDMCX',\n",
       " 'https://ycharts.com/mutual_funds/M:REMGX',\n",
       " 'https://ycharts.com/mutual_funds/M:FLFCX',\n",
       " 'https://ycharts.com/mutual_funds/M:MLPRX',\n",
       " 'https://ycharts.com/mutual_funds/M:GGCCX',\n",
       " 'https://ycharts.com/mutual_funds/M:KGDCX',\n",
       " 'https://ycharts.com/mutual_funds/M:AMFQX',\n",
       " 'https://ycharts.com/mutual_funds/M:RCSCX',\n",
       " 'https://ycharts.com/mutual_funds/M:KRXCX',\n",
       " 'https://ycharts.com/mutual_funds/M:FTEFX',\n",
       " 'https://ycharts.com/mutual_funds/M:MCEFX',\n",
       " 'https://ycharts.com/mutual_funds/M:PROAX',\n",
       " 'https://ycharts.com/mutual_funds/M:GLTCX',\n",
       " 'https://ycharts.com/mutual_funds/M:GCCSX',\n",
       " 'https://ycharts.com/mutual_funds/M:KGLCX',\n",
       " 'https://ycharts.com/mutual_funds/M:JERCX',\n",
       " 'https://ycharts.com/mutual_funds/M:HSMCX',\n",
       " 'https://ycharts.com/mutual_funds/M:WWOCX',\n",
       " 'https://ycharts.com/mutual_funds/M:JAQCX',\n",
       " 'https://ycharts.com/mutual_funds/M:TDMTX',\n",
       " 'https://ycharts.com/mutual_funds/M:GIRCX',\n",
       " 'https://ycharts.com/mutual_funds/M:GURCX',\n",
       " 'https://ycharts.com/mutual_funds/M:ICDCX',\n",
       " 'https://ycharts.com/mutual_funds/M:WPOIX',\n",
       " 'https://ycharts.com/mutual_funds/M:QOPCX',\n",
       " 'https://ycharts.com/mutual_funds/M:CPAEX',\n",
       " 'https://ycharts.com/mutual_funds/M:CDWCX',\n",
       " 'https://ycharts.com/mutual_funds/M:OSMCX',\n",
       " 'https://ycharts.com/mutual_funds/M:GTDCX',\n",
       " 'https://ycharts.com/mutual_funds/M:MWOGX',\n",
       " 'https://ycharts.com/mutual_funds/M:GIGCX',\n",
       " 'https://ycharts.com/mutual_funds/M:AGECX',\n",
       " 'https://ycharts.com/mutual_funds/M:KINAX',\n",
       " 'https://ycharts.com/mutual_funds/M:TVOCX',\n",
       " 'https://ycharts.com/mutual_funds/M:SGACX',\n",
       " 'https://ycharts.com/mutual_funds/M:ARECX',\n",
       " 'https://ycharts.com/mutual_funds/M:MWOBX',\n",
       " 'https://ycharts.com/mutual_funds/M:MWOCX',\n",
       " 'https://ycharts.com/mutual_funds/M:OCIEX',\n",
       " 'https://ycharts.com/mutual_funds/M:LCOCX',\n",
       " 'https://ycharts.com/mutual_funds/M:TOLCX',\n",
       " 'https://ycharts.com/mutual_funds/M:ARYTX',\n",
       " 'https://ycharts.com/mutual_funds/M:NINCX',\n",
       " 'https://ycharts.com/mutual_funds/M:ECCPX',\n",
       " 'https://ycharts.com/mutual_funds/M:CPECX',\n",
       " 'https://ycharts.com/mutual_funds/M:CGGCX',\n",
       " 'https://ycharts.com/mutual_funds/M:COGCX',\n",
       " 'https://ycharts.com/mutual_funds/M:GAUCX',\n",
       " 'https://ycharts.com/mutual_funds/M:CBACX',\n",
       " 'https://ycharts.com/mutual_funds/M:CVGCX',\n",
       " 'https://ycharts.com/mutual_funds/M:COICX',\n",
       " 'https://ycharts.com/mutual_funds/M:NITRX',\n",
       " 'https://ycharts.com/mutual_funds/M:GMSEX',\n",
       " 'https://ycharts.com/mutual_funds/M:IEYCX',\n",
       " 'https://ycharts.com/mutual_funds/M:BINCX',\n",
       " 'https://ycharts.com/mutual_funds/M:GSXCX',\n",
       " 'https://ycharts.com/mutual_funds/M:WFDEX',\n",
       " 'https://ycharts.com/mutual_funds/M:ABNCX',\n",
       " 'https://ycharts.com/mutual_funds/M:NSPCX',\n",
       " 'https://ycharts.com/mutual_funds/M:TVRCX',\n",
       " 'https://ycharts.com/mutual_funds/M:RGCIX',\n",
       " 'https://ycharts.com/mutual_funds/M:GIOCX',\n",
       " 'https://ycharts.com/mutual_funds/M:ORICX',\n",
       " 'https://ycharts.com/mutual_funds/M:ATDCX',\n",
       " 'https://ycharts.com/mutual_funds/M:GATCX',\n",
       " 'https://ycharts.com/mutual_funds/M:TMFSX',\n",
       " 'https://ycharts.com/mutual_funds/M:AEDCX',\n",
       " 'https://ycharts.com/mutual_funds/M:IPOCX',\n",
       " 'https://ycharts.com/mutual_funds/M:WCEBX',\n",
       " 'https://ycharts.com/mutual_funds/M:AMGCX',\n",
       " 'https://ycharts.com/mutual_funds/M:ALSCX',\n",
       " 'https://ycharts.com/mutual_funds/M:ASTAX',\n",
       " 'https://ycharts.com/mutual_funds/M:RMOCX',\n",
       " 'https://ycharts.com/mutual_funds/M:THGCX',\n",
       " 'https://ycharts.com/mutual_funds/M:DPRCX',\n",
       " 'https://ycharts.com/mutual_funds/M:LSMCX',\n",
       " 'https://ycharts.com/mutual_funds/M:PHLBX',\n",
       " 'https://ycharts.com/mutual_funds/M:IMNCX',\n",
       " 'https://ycharts.com/mutual_funds/M:GITCX',\n",
       " 'https://ycharts.com/mutual_funds/M:DVRFX',\n",
       " 'https://ycharts.com/mutual_funds/M:DVRCX',\n",
       " 'https://ycharts.com/mutual_funds/M:ANGCX',\n",
       " 'https://ycharts.com/mutual_funds/M:CCDVX',\n",
       " 'https://ycharts.com/mutual_funds/M:ECSEX',\n",
       " 'https://ycharts.com/mutual_funds/M:DVRBX',\n",
       " 'https://ycharts.com/mutual_funds/M:WBCCX',\n",
       " 'https://ycharts.com/mutual_funds/M:AIECX',\n",
       " 'https://ycharts.com/mutual_funds/M:TOPCX',\n",
       " 'https://ycharts.com/mutual_funds/M:BGLCX',\n",
       " 'https://ycharts.com/mutual_funds/M:TPDCX',\n",
       " 'https://ycharts.com/mutual_funds/M:GGECX',\n",
       " 'https://ycharts.com/mutual_funds/M:FEGOX',\n",
       " 'https://ycharts.com/mutual_funds/M:SFSLX',\n",
       " 'https://ycharts.com/mutual_funds/M:KIRCX',\n",
       " 'https://ycharts.com/mutual_funds/M:PBFBX',\n",
       " 'https://ycharts.com/mutual_funds/M:GEGCX',\n",
       " 'https://ycharts.com/mutual_funds/M:THOCX',\n",
       " 'https://ycharts.com/mutual_funds/M:PSGCX',\n",
       " 'https://ycharts.com/mutual_funds/M:REICX',\n",
       " 'https://ycharts.com/mutual_funds/M:ASCCX',\n",
       " 'https://ycharts.com/mutual_funds/M:VSVCX',\n",
       " 'https://ycharts.com/mutual_funds/M:VCRIX',\n",
       " 'https://ycharts.com/mutual_funds/M:SGFFX',\n",
       " 'https://ycharts.com/mutual_funds/M:ECHAX',\n",
       " 'https://ycharts.com/mutual_funds/M:REECX',\n",
       " 'https://ycharts.com/mutual_funds/M:LOTAX',\n",
       " 'https://ycharts.com/mutual_funds/M:ESVCX',\n",
       " 'https://ycharts.com/mutual_funds/M:RRSCX',\n",
       " 'https://ycharts.com/mutual_funds/M:IIFBX',\n",
       " 'https://ycharts.com/mutual_funds/M:ATESX',\n",
       " 'https://ycharts.com/mutual_funds/M:ORECX',\n",
       " 'https://ycharts.com/mutual_funds/M:RSCCX',\n",
       " 'https://ycharts.com/mutual_funds/M:BEMCX',\n",
       " 'https://ycharts.com/mutual_funds/M:MCISX',\n",
       " 'https://ycharts.com/mutual_funds/M:TIGCX',\n",
       " 'https://ycharts.com/mutual_funds/M:VFGCX',\n",
       " 'https://ycharts.com/mutual_funds/M:SKCRX',\n",
       " 'https://ycharts.com/mutual_funds/M:OEPIX',\n",
       " 'https://ycharts.com/mutual_funds/M:PHRCX',\n",
       " 'https://ycharts.com/mutual_funds/M:KLGCX',\n",
       " 'https://ycharts.com/mutual_funds/M:LRRCX',\n",
       " 'https://ycharts.com/mutual_funds/M:KLGBX',\n",
       " 'https://ycharts.com/mutual_funds/M:JVSCX',\n",
       " 'https://ycharts.com/mutual_funds/M:FERCX',\n",
       " 'https://ycharts.com/mutual_funds/M:ECIDX',\n",
       " 'https://ycharts.com/mutual_funds/M:ECEAX',\n",
       " 'https://ycharts.com/mutual_funds/M:BGCCX',\n",
       " 'https://ycharts.com/mutual_funds/M:IIRCX',\n",
       " 'https://ycharts.com/mutual_funds/M:DWGCX',\n",
       " 'https://ycharts.com/mutual_funds/M:DCIOX',\n",
       " 'https://ycharts.com/mutual_funds/M:CGOCX',\n",
       " 'https://ycharts.com/mutual_funds/M:NWUCX',\n",
       " 'https://ycharts.com/mutual_funds/M:DEGCX',\n",
       " 'https://ycharts.com/mutual_funds/M:RDVCX',\n",
       " 'https://ycharts.com/mutual_funds/M:POSCX',\n",
       " 'https://ycharts.com/mutual_funds/M:SUHCX',\n",
       " 'https://ycharts.com/mutual_funds/M:KIFCX',\n",
       " 'https://ycharts.com/mutual_funds/M:DGGCX',\n",
       " 'https://ycharts.com/mutual_funds/M:GSSCX',\n",
       " 'https://ycharts.com/mutual_funds/M:PPTCX',\n",
       " 'https://ycharts.com/mutual_funds/M:WFVCX',\n",
       " 'https://ycharts.com/mutual_funds/M:MBACX',\n",
       " 'https://ycharts.com/mutual_funds/M:WFUFX',\n",
       " 'https://ycharts.com/mutual_funds/M:DCREX',\n",
       " 'https://ycharts.com/mutual_funds/M:SHTCX',\n",
       " 'https://ycharts.com/mutual_funds/M:ALMCX',\n",
       " 'https://ycharts.com/mutual_funds/M:GIDCX',\n",
       " 'https://ycharts.com/mutual_funds/M:AGLCX',\n",
       " 'https://ycharts.com/mutual_funds/M:ADOZX',\n",
       " 'https://ycharts.com/mutual_funds/M:MCPCX',\n",
       " 'https://ycharts.com/mutual_funds/M:PGNBX',\n",
       " 'https://ycharts.com/mutual_funds/M:PUFCX',\n",
       " 'https://ycharts.com/mutual_funds/M:SMECX',\n",
       " 'https://ycharts.com/mutual_funds/M:IEMCX',\n",
       " 'https://ycharts.com/mutual_funds/M:HFXIX',\n",
       " 'https://ycharts.com/mutual_funds/M:MBNBX',\n",
       " 'https://ycharts.com/mutual_funds/M:FCCGX',\n",
       " 'https://ycharts.com/mutual_funds/M:RGCEX',\n",
       " 'https://ycharts.com/mutual_funds/M:DRDCX',\n",
       " 'https://ycharts.com/mutual_funds/M:MMERX',\n",
       " 'https://ycharts.com/mutual_funds/M:WMGBX',\n",
       " 'https://ycharts.com/mutual_funds/M:PIGRX',\n",
       " 'https://ycharts.com/mutual_funds/M:JVICX',\n",
       " 'https://ycharts.com/mutual_funds/M:CFRCX',\n",
       " 'https://ycharts.com/mutual_funds/M:IVOCX',\n",
       " 'https://ycharts.com/mutual_funds/M:AGACX',\n",
       " 'https://ycharts.com/mutual_funds/M:SEVSX',\n",
       " 'https://ycharts.com/mutual_funds/M:MAPBX',\n",
       " 'https://ycharts.com/mutual_funds/M:HSSCX',\n",
       " 'https://ycharts.com/mutual_funds/M:QALTX',\n",
       " 'https://ycharts.com/mutual_funds/M:IATCX',\n",
       " 'https://ycharts.com/mutual_funds/M:IYSCX',\n",
       " 'https://ycharts.com/mutual_funds/M:SUVBX',\n",
       " 'https://ycharts.com/mutual_funds/M:RIVCX',\n",
       " 'https://ycharts.com/mutual_funds/M:IGNCX',\n",
       " 'https://ycharts.com/mutual_funds/M:STPAX',\n",
       " 'https://ycharts.com/mutual_funds/M:WSMCX',\n",
       " 'https://ycharts.com/mutual_funds/M:HGHCX',\n",
       " 'https://ycharts.com/mutual_funds/M:MMPCX',\n",
       " 'https://ycharts.com/mutual_funds/M:IEFCX',\n",
       " 'https://ycharts.com/mutual_funds/M:RVACX',\n",
       " 'https://ycharts.com/mutual_funds/M:CSSCX',\n",
       " 'https://ycharts.com/mutual_funds/M:NAVCX',\n",
       " 'https://ycharts.com/mutual_funds/M:GMAMX',\n",
       " 'https://ycharts.com/mutual_funds/M:TESGX',\n",
       " 'https://ycharts.com/mutual_funds/M:EBIDX',\n",
       " 'https://ycharts.com/mutual_funds/M:MNNCX',\n",
       " 'https://ycharts.com/mutual_funds/M:EENCX',\n",
       " 'https://ycharts.com/mutual_funds/M:RYCGX',\n",
       " 'https://ycharts.com/mutual_funds/M:HPECX',\n",
       " 'https://ycharts.com/mutual_funds/M:TRXCX',\n",
       " 'https://ycharts.com/mutual_funds/M:EACFX',\n",
       " 'https://ycharts.com/mutual_funds/M:CWVCX',\n",
       " 'https://ycharts.com/mutual_funds/M:EDICX',\n",
       " 'https://ycharts.com/mutual_funds/M:EPLKX',\n",
       " 'https://ycharts.com/mutual_funds/M:ASTCX',\n",
       " 'https://ycharts.com/mutual_funds/M:LCSAX',\n",
       " 'https://ycharts.com/mutual_funds/M:NGVCX',\n",
       " 'https://ycharts.com/mutual_funds/M:FRLCX',\n",
       " 'https://ycharts.com/mutual_funds/M:SIHSX',\n",
       " 'https://ycharts.com/mutual_funds/M:TDEAX',\n",
       " 'https://ycharts.com/mutual_funds/M:NSMCX',\n",
       " 'https://ycharts.com/mutual_funds/M:PBQIX',\n",
       " 'https://ycharts.com/mutual_funds/M:PFDEX',\n",
       " 'https://ycharts.com/mutual_funds/M:TEURX',\n",
       " 'https://ycharts.com/mutual_funds/M:NOICX',\n",
       " 'https://ycharts.com/mutual_funds/M:HFECX',\n",
       " 'https://ycharts.com/mutual_funds/M:AOPCX',\n",
       " 'https://ycharts.com/mutual_funds/M:SSCYX',\n",
       " 'https://ycharts.com/mutual_funds/M:SLGCX',\n",
       " 'https://ycharts.com/mutual_funds/M:ESPCX',\n",
       " 'https://ycharts.com/mutual_funds/M:SILLX',\n",
       " 'https://ycharts.com/mutual_funds/M:SRGCX',\n",
       " 'https://ycharts.com/mutual_funds/M:ASPCX',\n",
       " 'https://ycharts.com/mutual_funds/M:BMPIX',\n",
       " 'https://ycharts.com/mutual_funds/M:PCCRX',\n",
       " 'https://ycharts.com/mutual_funds/M:BACCX',\n",
       " 'https://ycharts.com/mutual_funds/M:BCREX',\n",
       " 'https://ycharts.com/mutual_funds/M:HNCCX',\n",
       " 'https://ycharts.com/mutual_funds/M:MNDCX',\n",
       " 'https://ycharts.com/mutual_funds/M:HFOCX',\n",
       " 'https://ycharts.com/mutual_funds/M:PELCX',\n",
       " 'https://ycharts.com/mutual_funds/M:MNDGX',\n",
       " 'https://ycharts.com/mutual_funds/M:DGBCX',\n",
       " 'https://ycharts.com/mutual_funds/M:CSGTX',\n",
       " 'https://ycharts.com/mutual_funds/M:WFEMX',\n",
       " 'https://ycharts.com/mutual_funds/M:WRGCX',\n",
       " 'https://ycharts.com/mutual_funds/M:BRCCX',\n",
       " 'https://ycharts.com/mutual_funds/M:MEOVX',\n",
       " 'https://ycharts.com/mutual_funds/M:DSGCX',\n",
       " 'https://ycharts.com/mutual_funds/M:CBMCX',\n",
       " 'https://ycharts.com/mutual_funds/M:GRECX',\n",
       " 'https://ycharts.com/mutual_funds/M:NWHPX',\n",
       " 'https://ycharts.com/mutual_funds/M:MGLCX',\n",
       " 'https://ycharts.com/mutual_funds/M:LMGEX',\n",
       " 'https://ycharts.com/mutual_funds/M:WSTBX',\n",
       " 'https://ycharts.com/mutual_funds/M:DCLVX',\n",
       " 'https://ycharts.com/mutual_funds/M:AFJCX',\n",
       " 'https://ycharts.com/mutual_funds/M:SSVCX',\n",
       " 'https://ycharts.com/mutual_funds/M:JMICX',\n",
       " 'https://ycharts.com/mutual_funds/M:NIMEX',\n",
       " 'https://ycharts.com/mutual_funds/M:DMECX',\n",
       " 'https://ycharts.com/mutual_funds/M:ASRCX',\n",
       " 'https://ycharts.com/mutual_funds/M:CRECX',\n",
       " 'https://ycharts.com/mutual_funds/M:UNPIX',\n",
       " 'https://ycharts.com/mutual_funds/M:RDWAX',\n",
       " 'https://ycharts.com/mutual_funds/M:MNDBX',\n",
       " 'https://ycharts.com/mutual_funds/M:PSCAX',\n",
       " 'https://ycharts.com/mutual_funds/M:ABYAX',\n",
       " 'https://ycharts.com/mutual_funds/M:ODVCX',\n",
       " 'https://ycharts.com/mutual_funds/M:SMFCX',\n",
       " 'https://ycharts.com/mutual_funds/M:PIXEX',\n",
       " 'https://ycharts.com/mutual_funds/M:JCRCX',\n",
       " 'https://ycharts.com/mutual_funds/M:JEIMX',\n",
       " 'https://ycharts.com/mutual_funds/M:EMCAX',\n",
       " 'https://ycharts.com/mutual_funds/M:PRCEX',\n",
       " 'https://ycharts.com/mutual_funds/M:TOECX',\n",
       " 'https://ycharts.com/mutual_funds/M:HTSCX',\n",
       " 'https://ycharts.com/mutual_funds/M:SSGDX',\n",
       " 'https://ycharts.com/mutual_funds/M:IGCAX',\n",
       " 'https://ycharts.com/mutual_funds/M:SBVLX',\n",
       " 'https://ycharts.com/mutual_funds/M:AZSCX',\n",
       " 'https://ycharts.com/mutual_funds/M:SVMCX',\n",
       " 'https://ycharts.com/mutual_funds/M:ATICX',\n",
       " 'https://ycharts.com/mutual_funds/M:HMVCX',\n",
       " 'https://ycharts.com/mutual_funds/M:MASBX',\n",
       " 'https://ycharts.com/mutual_funds/M:MIDCX',\n",
       " 'https://ycharts.com/mutual_funds/M:FGFBX',\n",
       " 'https://ycharts.com/mutual_funds/M:MIDGX',\n",
       " 'https://ycharts.com/mutual_funds/M:MSICX',\n",
       " 'https://ycharts.com/mutual_funds/M:MIDBX',\n",
       " 'https://ycharts.com/mutual_funds/M:VCSCX',\n",
       " 'https://ycharts.com/mutual_funds/M:CHNDX',\n",
       " 'https://ycharts.com/mutual_funds/M:VNVCX',\n",
       " 'https://ycharts.com/mutual_funds/M:PBGPX',\n",
       " ...]"
      ]
     },
     "execution_count": 506,
     "metadata": {},
     "output_type": "execute_result"
    }
   ],
   "source": [
    "fund_links"
   ]
  },
  {
   "cell_type": "code",
   "execution_count": null,
   "metadata": {},
   "outputs": [],
   "source": [
    "'https://ycharts.com/mutual_funds/M:LTNCX',\n",
    " 'https://ycharts.com/mutual_funds/M:DLRHX',\n",
    " 'https://ycharts.com/mutual_funds/M:GIGAX',\n",
    " 'https://ycharts.com/mutual_funds/M:CSHAX',\n",
    " 'https://ycharts.com/mutual_funds/M:PGIOX']"
   ]
  },
  {
   "cell_type": "code",
   "execution_count": 621,
   "metadata": {},
   "outputs": [],
   "source": [
    "test = fund_links[9000:13000]"
   ]
  },
  {
   "cell_type": "code",
   "execution_count": 622,
   "metadata": {},
   "outputs": [
    {
     "data": {
      "text/plain": [
       "4000"
      ]
     },
     "execution_count": 622,
     "metadata": {},
     "output_type": "execute_result"
    }
   ],
   "source": [
    "len(test)"
   ]
  },
  {
   "cell_type": "code",
   "execution_count": 623,
   "metadata": {},
   "outputs": [],
   "source": [
    "#This goes throuagh all the watch brands and gets all the names and links\n",
    "# driver = webdriver.Chrome() #browser should be named driver in the future, common coding etiquette\n"
   ]
  },
  {
   "cell_type": "code",
   "execution_count": 624,
   "metadata": {},
   "outputs": [],
   "source": [
    "# funds= []"
   ]
  },
  {
   "cell_type": "code",
   "execution_count": 629,
   "metadata": {},
   "outputs": [],
   "source": [
    "#Currently on [13000:160000] 12142019\n",
    "#test = fund_links[9000:13000]"
   ]
  },
  {
   "cell_type": "code",
   "execution_count": 625,
   "metadata": {},
   "outputs": [
    {
     "data": {
      "application/vnd.jupyter.widget-view+json": {
       "model_id": "2c867a246ba244bb94b9f25d9bdb79ca",
       "version_major": 2,
       "version_minor": 0
      },
      "text/plain": [
       "HBox(children=(IntProgress(value=0, max=4000), HTML(value='')))"
      ]
     },
     "metadata": {},
     "output_type": "display_data"
    },
    {
     "name": "stdout",
     "output_type": "stream",
     "text": [
      "\n"
     ]
    }
   ],
   "source": [
    "for i in tqdm(test):\n",
    "    \n",
    "    try:\n",
    "        driver.get(i)\n",
    "    except:\n",
    "        continue\n",
    "    \n",
    "#     WebDriverWait(driver, .4)\n",
    "    try:\n",
    "    # Wait as long as required, or maximum of 5 sec for element to appear\n",
    "    # If successful, retrieves the element\n",
    "        element = WebDriverWait(driver,5).until(EC.presence_of_element_located((By.ID, \"colMainPct\")))\n",
    "    except:\n",
    "        continue\n",
    "    \n",
    "    feature = {}\n",
    "    \n",
    "    try:\n",
    "        feature['name']= driver.find_element_by_class_name('securityName').text\n",
    "\n",
    "        for i in (driver.find_elements_by_class_name('boxStats')):\n",
    "            for j in i.find_elements_by_tag_name('tr'):\n",
    "                feature[(j.find_element_by_class_name('col1').text)] = (j.find_element_by_class_name('col2').text)\n",
    "\n",
    "        for i in (driver.find_elements_by_class_name('boxModule')):\n",
    "            if 'Performance & Returns' in i.text[:22]:\n",
    "                for j in i.find_elements_by_tag_name('tr'):\n",
    "                    if len(j.find_elements_by_tag_name('td')) >= 3:\n",
    "                        feature[str('performance_')+(j.find_elements_by_tag_name('td')[0].text)] = (j.find_elements_by_tag_name('td')[1].text)\n",
    "\n",
    "            if 'Asset Allocation' in i.text[:17]:\n",
    "                for j in i.find_elements_by_tag_name('tr'):\n",
    "                        if len(j.find_elements_by_tag_name('td')) >= 3:\n",
    "                            feature[str('asset_allocation_net_')+(j.find_elements_by_tag_name('td')[0].text)] = (j.find_elements_by_tag_name('td')[1].text)\n",
    "                            feature[str('asset_allocation_long_')+(j.find_elements_by_tag_name('td')[0].text)] = (j.find_elements_by_tag_name('td')[2].text)\n",
    "                            feature[str('asset_allocation_short_')+(j.find_elements_by_tag_name('td')[0].text)] = (j.find_elements_by_tag_name('td')[3].text)\n",
    "\n",
    "            if i.text[:15] == 'Region Exposure':\n",
    "                for j in i.find_elements_by_tag_name('tr'):\n",
    "                    feature[str('region_')+(j.find_element_by_class_name('col1').text)] = (j.find_element_by_class_name('col2').text)\n",
    "\n",
    "            if 'Bond Exposure' in i.text[:20]:\n",
    "                for j in i.find_elements_by_tag_name('tr'):\n",
    "                    feature[str('bond_exp_')+(j.find_element_by_class_name('col1').text)] = (j.find_element_by_class_name('col2').text)\n",
    "\n",
    "            if 'Bond Maturity Exposure' in i.text[:29]:\n",
    "                for j in i.find_elements_by_tag_name('tr'):\n",
    "                    feature[str('bond_maturity_')+(j.find_element_by_class_name('col1').text)] = (j.find_element_by_class_name('col2').text)\n",
    "\n",
    "            if 'Bond Credit Quality Exposure' in i.text[:35]:\n",
    "                for j in i.find_elements_by_tag_name('tr'):\n",
    "                    feature[str('bond_credit_')+(j.find_element_by_class_name('col1').text)] = (j.find_element_by_class_name('col2').text)\n",
    "\n",
    "            if i.text[:10] == 'Basic Info':\n",
    "                for j in i.find_elements_by_tag_name('tr'):\n",
    "                    if len(j.find_elements_by_tag_name('td')) == 2:\n",
    "                        feature[(j.find_element_by_class_name('col1').text)] = (j.find_element_by_class_name('col2').text)\n",
    "        #     if i.text[:15] == 'Net Fund Flows':\n",
    "\n",
    "            if 'Net Fund Flows' in i.text[:30]:\n",
    "                for j in i.find_elements_by_tag_name('tr'):\n",
    "                    feature[str('net_flow_')+(j.find_element_by_class_name('col1').text)] = (j.find_element_by_class_name('col2').text)\n",
    "\n",
    "            if 'Risk Info' in i.text[:10]:\n",
    "                for j in i.find_elements_by_tag_name('tr'):\n",
    "                    feature[(j.find_element_by_class_name('col1').text)] = (j.find_element_by_class_name('col2').text)\n",
    "\n",
    "            if 'Fundamentals' in i.text[:13]:\n",
    "                for j in i.find_elements_by_tag_name('tr'):\n",
    "                    feature[(j.find_element_by_class_name('col1').text)] = (j.find_element_by_class_name('col2').text)\n",
    "\n",
    "            if 'Attributes' in i.text[:11]:\n",
    "                for j in i.find_elements_by_tag_name('tr'):\n",
    "                    if len(j.find_elements_by_tag_name('td')) == 2:\n",
    "                        feature[(j.find_element_by_class_name('col1').text)] = (j.find_element_by_class_name('col2').text)\n",
    "\n",
    "            if 'Manager Info' in i.text[:13]:\n",
    "                feature['manager'] = (i.text)\n",
    "\n",
    "            if 'Stock Sector Exposure' in i.text[:22]:\n",
    "                for j in i.find_elements_by_tag_name('tr'):\n",
    "                    feature[str('stock_sector_')+(j.find_element_by_class_name('col1').text)] = (j.find_element_by_class_name('col2').text)\n",
    "\n",
    "            if 'Stock Style Exposure' in i.text[:20]:\n",
    "                for j in i.find_elements_by_tag_name('tr'):\n",
    "                    feature[str('stock_style_')+(j.find_element_by_class_name('col1').text)] = (j.find_element_by_class_name('col2').text)\n",
    "\n",
    "            if 'Stock Market Capitalization' in i.text[:28]:\n",
    "                for j in i.find_elements_by_tag_name('tr'):\n",
    "                    feature[str('stock_market_cap_')+(j.find_element_by_class_name('col1').text)] = (j.find_element_by_class_name('col2').text)\n",
    "\n",
    "            if 'Growth Estimates' in i.text[:17]:\n",
    "                for j in i.find_elements_by_tag_name('tr'):\n",
    "                    feature[str(j.find_element_by_class_name('col1').text)] = (j.find_element_by_class_name('col2').text)\n",
    "    except:\n",
    "        continue\n",
    "        \n",
    "    funds.append(feature)\n",
    "\n",
    "\n",
    "\n",
    "    "
   ]
  },
  {
   "cell_type": "code",
   "execution_count": 626,
   "metadata": {},
   "outputs": [],
   "source": [
    "df = pd.DataFrame(funds)"
   ]
  },
  {
   "cell_type": "code",
   "execution_count": 627,
   "metadata": {},
   "outputs": [],
   "source": [
    "df.to_pickle('scraped_funds_revised.pkl')"
   ]
  },
  {
   "cell_type": "code",
   "execution_count": 628,
   "metadata": {},
   "outputs": [
    {
     "data": {
      "text/plain": [
       "(10832, 1042)"
      ]
     },
     "execution_count": 628,
     "metadata": {},
     "output_type": "execute_result"
    }
   ],
   "source": [
    "df.shape"
   ]
  },
  {
   "cell_type": "code",
   "execution_count": 582,
   "metadata": {},
   "outputs": [
    {
     "data": {
      "text/plain": [
       "count      2395\n",
       "unique      224\n",
       "top       1.75%\n",
       "freq         75\n",
       "Name: Expense Ratio, dtype: object"
      ]
     },
     "execution_count": 582,
     "metadata": {},
     "output_type": "execute_result"
    }
   ],
   "source": [
    "df['Expense Ratio'].describe()"
   ]
  },
  {
   "cell_type": "code",
   "execution_count": 585,
   "metadata": {},
   "outputs": [
    {
     "data": {
      "text/plain": [
       "Index(['1 Year Fund Level Flows', '30-Day SEC Yield',\n",
       "       '30-Day SEC Yield (1-2-14)', '30-Day SEC Yield (1-31-06)',\n",
       "       '30-Day SEC Yield (1-31-14)', '30-Day SEC Yield (1-31-17)',\n",
       "       '30-Day SEC Yield (1-31-19)', '30-Day SEC Yield (1-31-98)',\n",
       "       '30-Day SEC Yield (10-14-19)', '30-Day SEC Yield (10-29-19)',\n",
       "       ...\n",
       "       'stock_sector_Utilities', 'stock_style_Large Cap Blend',\n",
       "       'stock_style_Large Cap Growth', 'stock_style_Large Cap Value',\n",
       "       'stock_style_Mid Cap Blend', 'stock_style_Mid Cap Growth',\n",
       "       'stock_style_Mid Cap Value', 'stock_style_Small Cap Blend',\n",
       "       'stock_style_Small Cap Growth', 'stock_style_Small Cap Value'],\n",
       "      dtype='object', length=658)"
      ]
     },
     "execution_count": 585,
     "metadata": {},
     "output_type": "execute_result"
    }
   ],
   "source": [
    "df.columns"
   ]
  },
  {
   "cell_type": "code",
   "execution_count": 588,
   "metadata": {},
   "outputs": [
    {
     "data": {
      "text/plain": [
       "stock_sector_Utilities          575\n",
       "stock_style_Large Cap Blend     575\n",
       "stock_style_Large Cap Growth    575\n",
       "stock_style_Large Cap Value     575\n",
       "stock_style_Mid Cap Blend       575\n",
       "stock_style_Mid Cap Growth      575\n",
       "stock_style_Mid Cap Value       575\n",
       "stock_style_Small Cap Blend     575\n",
       "stock_style_Small Cap Growth    575\n",
       "stock_style_Small Cap Value     575\n",
       "dtype: int64"
      ]
     },
     "execution_count": 588,
     "metadata": {},
     "output_type": "execute_result"
    }
   ],
   "source": [
    "df[['stock_sector_Utilities', 'stock_style_Large Cap Blend',\n",
    "       'stock_style_Large Cap Growth', 'stock_style_Large Cap Value',\n",
    "       'stock_style_Mid Cap Blend', 'stock_style_Mid Cap Growth',\n",
    "       'stock_style_Mid Cap Value', 'stock_style_Small Cap Blend',\n",
    "       'stock_style_Small Cap Growth', 'stock_style_Small Cap Value']].isna().sum()"
   ]
  },
  {
   "cell_type": "code",
   "execution_count": 489,
   "metadata": {},
   "outputs": [
    {
     "data": {
      "text/html": [
       "<div>\n",
       "<style scoped>\n",
       "    .dataframe tbody tr th:only-of-type {\n",
       "        vertical-align: middle;\n",
       "    }\n",
       "\n",
       "    .dataframe tbody tr th {\n",
       "        vertical-align: top;\n",
       "    }\n",
       "\n",
       "    .dataframe thead th {\n",
       "        text-align: right;\n",
       "    }\n",
       "</style>\n",
       "<table border=\"1\" class=\"dataframe\">\n",
       "  <thead>\n",
       "    <tr style=\"text-align: right;\">\n",
       "      <th></th>\n",
       "      <th>Fund Name</th>\n",
       "      <th>Ticker</th>\n",
       "      <th>Net Asset Value</th>\n",
       "      <th>Expense Ratio</th>\n",
       "      <th>Unnamed: 4</th>\n",
       "    </tr>\n",
       "  </thead>\n",
       "  <tbody>\n",
       "    <tr>\n",
       "      <th>11</th>\n",
       "      <td>DWS RREEF Real Assets Inst</td>\n",
       "      <td>AAAZX</td>\n",
       "      <td>10.29</td>\n",
       "      <td>0.95</td>\n",
       "      <td>NaN</td>\n",
       "    </tr>\n",
       "    <tr>\n",
       "      <th>245</th>\n",
       "      <td>American Beacon CrescentShDrHiIn Y</td>\n",
       "      <td>ACHYX</td>\n",
       "      <td>9.33</td>\n",
       "      <td>0.95</td>\n",
       "      <td>NaN</td>\n",
       "    </tr>\n",
       "    <tr>\n",
       "      <th>255</th>\n",
       "      <td>American Century Intl Core Eqty I</td>\n",
       "      <td>ACIUX</td>\n",
       "      <td>8.82</td>\n",
       "      <td>0.95</td>\n",
       "      <td>NaN</td>\n",
       "    </tr>\n",
       "    <tr>\n",
       "      <th>502</th>\n",
       "      <td>AllianzGI Global Dynamic Alloc Adm</td>\n",
       "      <td>AGFAX</td>\n",
       "      <td>19.89</td>\n",
       "      <td>0.95</td>\n",
       "      <td>NaN</td>\n",
       "    </tr>\n",
       "    <tr>\n",
       "      <th>523</th>\n",
       "      <td>Invesco Income Investor</td>\n",
       "      <td>AGIVX</td>\n",
       "      <td>8.73</td>\n",
       "      <td>0.95</td>\n",
       "      <td>NaN</td>\n",
       "    </tr>\n",
       "    <tr>\n",
       "      <th>627</th>\n",
       "      <td>Voya MidCap Research Enh Index A</td>\n",
       "      <td>AIMAX</td>\n",
       "      <td>15.88</td>\n",
       "      <td>0.95</td>\n",
       "      <td>NaN</td>\n",
       "    </tr>\n",
       "    <tr>\n",
       "      <th>669</th>\n",
       "      <td>Akre Focus Supra Institutional</td>\n",
       "      <td>AKRSX</td>\n",
       "      <td>46.26</td>\n",
       "      <td>0.95</td>\n",
       "      <td>NaN</td>\n",
       "    </tr>\n",
       "    <tr>\n",
       "      <th>698</th>\n",
       "      <td>Alger Focus Equity I</td>\n",
       "      <td>ALGRX</td>\n",
       "      <td>38.88</td>\n",
       "      <td>0.95</td>\n",
       "      <td>NaN</td>\n",
       "    </tr>\n",
       "    <tr>\n",
       "      <th>699</th>\n",
       "      <td>AB Limited Dur High Income A</td>\n",
       "      <td>ALHAX</td>\n",
       "      <td>10.34</td>\n",
       "      <td>0.95</td>\n",
       "      <td>NaN</td>\n",
       "    </tr>\n",
       "    <tr>\n",
       "      <th>702</th>\n",
       "      <td>AB Limited Dur High Income K</td>\n",
       "      <td>ALHKX</td>\n",
       "      <td>10.34</td>\n",
       "      <td>0.95</td>\n",
       "      <td>NaN</td>\n",
       "    </tr>\n",
       "    <tr>\n",
       "      <th>870</th>\n",
       "      <td>AllianzGI NFJ Intl Value Inst</td>\n",
       "      <td>ANJIX</td>\n",
       "      <td>18.67</td>\n",
       "      <td>0.95</td>\n",
       "      <td>NaN</td>\n",
       "    </tr>\n",
       "    <tr>\n",
       "      <th>942</th>\n",
       "      <td>Artisan International Value Inst</td>\n",
       "      <td>APHKX</td>\n",
       "      <td>35.46</td>\n",
       "      <td>0.95</td>\n",
       "      <td>NaN</td>\n",
       "    </tr>\n",
       "    <tr>\n",
       "      <th>971</th>\n",
       "      <td>Appleseed Fund Inst</td>\n",
       "      <td>APPIX</td>\n",
       "      <td>12.87</td>\n",
       "      <td>0.95</td>\n",
       "      <td>NaN</td>\n",
       "    </tr>\n",
       "    <tr>\n",
       "      <th>1172</th>\n",
       "      <td>American Century Strateg Income A</td>\n",
       "      <td>ASIQX</td>\n",
       "      <td>9.97</td>\n",
       "      <td>0.95</td>\n",
       "      <td>NaN</td>\n",
       "    </tr>\n",
       "    <tr>\n",
       "      <th>1335</th>\n",
       "      <td>American Century Adaptive Eq Inst</td>\n",
       "      <td>AVDIX</td>\n",
       "      <td>10.19</td>\n",
       "      <td>0.95</td>\n",
       "      <td>NaN</td>\n",
       "    </tr>\n",
       "    <tr>\n",
       "      <th>1338</th>\n",
       "      <td>Ave Maria Growth</td>\n",
       "      <td>AVEGX</td>\n",
       "      <td>37.77</td>\n",
       "      <td>0.95</td>\n",
       "      <td>NaN</td>\n",
       "    </tr>\n",
       "    <tr>\n",
       "      <th>1367</th>\n",
       "      <td>CIBC Atlas All Cap Growth Instl</td>\n",
       "      <td>AWGIX</td>\n",
       "      <td>31.07</td>\n",
       "      <td>0.95</td>\n",
       "      <td>NaN</td>\n",
       "    </tr>\n",
       "    <tr>\n",
       "      <th>1379</th>\n",
       "      <td>Invesco Global Core Equity R5</td>\n",
       "      <td>AWSIX</td>\n",
       "      <td>15.50</td>\n",
       "      <td>0.95</td>\n",
       "      <td>NaN</td>\n",
       "    </tr>\n",
       "    <tr>\n",
       "      <th>1384</th>\n",
       "      <td>AllianzGI Global Water Inst</td>\n",
       "      <td>AWTIX</td>\n",
       "      <td>16.70</td>\n",
       "      <td>0.95</td>\n",
       "      <td>NaN</td>\n",
       "    </tr>\n",
       "    <tr>\n",
       "      <th>1385</th>\n",
       "      <td>AllianzGI Global Water P</td>\n",
       "      <td>AWTPX</td>\n",
       "      <td>17.00</td>\n",
       "      <td>0.95</td>\n",
       "      <td>NaN</td>\n",
       "    </tr>\n",
       "    <tr>\n",
       "      <th>1386</th>\n",
       "      <td>CIBC Atlas Equity Income Instl</td>\n",
       "      <td>AWYIX</td>\n",
       "      <td>44.64</td>\n",
       "      <td>0.95</td>\n",
       "      <td>NaN</td>\n",
       "    </tr>\n",
       "    <tr>\n",
       "      <th>1406</th>\n",
       "      <td>AQR Emerging Defensive Style N</td>\n",
       "      <td>AZENX</td>\n",
       "      <td>9.42</td>\n",
       "      <td>0.95</td>\n",
       "      <td>NaN</td>\n",
       "    </tr>\n",
       "    <tr>\n",
       "      <th>1674</th>\n",
       "      <td>BlackRock US Government Bond R</td>\n",
       "      <td>BGBRX</td>\n",
       "      <td>10.60</td>\n",
       "      <td>0.95</td>\n",
       "      <td>NaN</td>\n",
       "    </tr>\n",
       "    <tr>\n",
       "      <th>1691</th>\n",
       "      <td>William Blair Global Leaders R6</td>\n",
       "      <td>BGGIX</td>\n",
       "      <td>14.66</td>\n",
       "      <td>0.95</td>\n",
       "      <td>NaN</td>\n",
       "    </tr>\n",
       "    <tr>\n",
       "      <th>1733</th>\n",
       "      <td>Madison Dividend Income Y</td>\n",
       "      <td>BHBFX</td>\n",
       "      <td>28.33</td>\n",
       "      <td>0.95</td>\n",
       "      <td>NaN</td>\n",
       "    </tr>\n",
       "    <tr>\n",
       "      <th>...</th>\n",
       "      <td>...</td>\n",
       "      <td>...</td>\n",
       "      <td>...</td>\n",
       "      <td>...</td>\n",
       "      <td>...</td>\n",
       "    </tr>\n",
       "    <tr>\n",
       "      <th>17566</th>\n",
       "      <td>DWS Small Cap Growth Instl</td>\n",
       "      <td>SSDIX</td>\n",
       "      <td>30.01</td>\n",
       "      <td>0.95</td>\n",
       "      <td>NaN</td>\n",
       "    </tr>\n",
       "    <tr>\n",
       "      <th>17570</th>\n",
       "      <td>DWS Small Cap Growth S</td>\n",
       "      <td>SSDSX</td>\n",
       "      <td>29.55</td>\n",
       "      <td>0.95</td>\n",
       "      <td>NaN</td>\n",
       "    </tr>\n",
       "    <tr>\n",
       "      <th>17605</th>\n",
       "      <td>Sierra Tactical Core Income Instl</td>\n",
       "      <td>SSIRX</td>\n",
       "      <td>21.46</td>\n",
       "      <td>0.95</td>\n",
       "      <td>NaN</td>\n",
       "    </tr>\n",
       "    <tr>\n",
       "      <th>17658</th>\n",
       "      <td>Stralem Equity Fund Inst</td>\n",
       "      <td>STEFX</td>\n",
       "      <td>8.87</td>\n",
       "      <td>0.95</td>\n",
       "      <td>NaN</td>\n",
       "    </tr>\n",
       "    <tr>\n",
       "      <th>17785</th>\n",
       "      <td>SEI Inst Mgd Tr-US Managed Vol F</td>\n",
       "      <td>SVOAX</td>\n",
       "      <td>18.31</td>\n",
       "      <td>0.95</td>\n",
       "      <td>NaN</td>\n",
       "    </tr>\n",
       "    <tr>\n",
       "      <th>18178</th>\n",
       "      <td>TCW Relative Value Lg Cap N</td>\n",
       "      <td>TGDVX</td>\n",
       "      <td>19.19</td>\n",
       "      <td>0.95</td>\n",
       "      <td>NaN</td>\n",
       "    </tr>\n",
       "    <tr>\n",
       "      <th>18270</th>\n",
       "      <td>BNY Mellon Balanced Opport J</td>\n",
       "      <td>THPBX</td>\n",
       "      <td>23.36</td>\n",
       "      <td>0.95</td>\n",
       "      <td>NaN</td>\n",
       "    </tr>\n",
       "    <tr>\n",
       "      <th>18450</th>\n",
       "      <td>Transamerica Mid Cap Growth R4</td>\n",
       "      <td>TMIFX</td>\n",
       "      <td>10.88</td>\n",
       "      <td>0.95</td>\n",
       "      <td>NaN</td>\n",
       "    </tr>\n",
       "    <tr>\n",
       "      <th>18555</th>\n",
       "      <td>Touchstone Intl ESG Equity Y</td>\n",
       "      <td>TPYYX</td>\n",
       "      <td>8.97</td>\n",
       "      <td>0.95</td>\n",
       "      <td>NaN</td>\n",
       "    </tr>\n",
       "    <tr>\n",
       "      <th>18595</th>\n",
       "      <td>T. Rowe Price Global Real Est Fd</td>\n",
       "      <td>TRGRX</td>\n",
       "      <td>21.47</td>\n",
       "      <td>0.95</td>\n",
       "      <td>NaN</td>\n",
       "    </tr>\n",
       "    <tr>\n",
       "      <th>18793</th>\n",
       "      <td>T. Rowe Price US High Yield Advisor</td>\n",
       "      <td>TUHAX</td>\n",
       "      <td>9.88</td>\n",
       "      <td>0.95</td>\n",
       "      <td>NaN</td>\n",
       "    </tr>\n",
       "    <tr>\n",
       "      <th>18895</th>\n",
       "      <td>Templeton Global Balanced Fund Adv</td>\n",
       "      <td>TZINX</td>\n",
       "      <td>2.81</td>\n",
       "      <td>0.95</td>\n",
       "      <td>NaN</td>\n",
       "    </tr>\n",
       "    <tr>\n",
       "      <th>18963</th>\n",
       "      <td>Carillon Scout Small Cap I</td>\n",
       "      <td>UMBHX</td>\n",
       "      <td>29.04</td>\n",
       "      <td>0.95</td>\n",
       "      <td>NaN</td>\n",
       "    </tr>\n",
       "    <tr>\n",
       "      <th>19210</th>\n",
       "      <td>Invesco Small Cap Discovery R5</td>\n",
       "      <td>VESCX</td>\n",
       "      <td>10.56</td>\n",
       "      <td>0.95</td>\n",
       "      <td>NaN</td>\n",
       "    </tr>\n",
       "    <tr>\n",
       "      <th>19236</th>\n",
       "      <td>Victory NewBridge Lg Cap Growth I</td>\n",
       "      <td>VFGIX</td>\n",
       "      <td>6.38</td>\n",
       "      <td>0.95</td>\n",
       "      <td>NaN</td>\n",
       "    </tr>\n",
       "    <tr>\n",
       "      <th>19337</th>\n",
       "      <td>Virtus KAR Mid-Cap Core I</td>\n",
       "      <td>VIMCX</td>\n",
       "      <td>37.64</td>\n",
       "      <td>0.95</td>\n",
       "      <td>NaN</td>\n",
       "    </tr>\n",
       "    <tr>\n",
       "      <th>19709</th>\n",
       "      <td>Seven Canyons Strategic Income</td>\n",
       "      <td>WASIX</td>\n",
       "      <td>12.70</td>\n",
       "      <td>0.95</td>\n",
       "      <td>NaN</td>\n",
       "    </tr>\n",
       "    <tr>\n",
       "      <th>19737</th>\n",
       "      <td>American Funds Cap World Bond F1</td>\n",
       "      <td>WBFFX</td>\n",
       "      <td>20.22</td>\n",
       "      <td>0.95</td>\n",
       "      <td>NaN</td>\n",
       "    </tr>\n",
       "    <tr>\n",
       "      <th>19756</th>\n",
       "      <td>William Blair Mid Cap Growth I</td>\n",
       "      <td>WCGIX</td>\n",
       "      <td>12.60</td>\n",
       "      <td>0.95</td>\n",
       "      <td>NaN</td>\n",
       "    </tr>\n",
       "    <tr>\n",
       "      <th>19774</th>\n",
       "      <td>Westfield Capital Dividend Grw I</td>\n",
       "      <td>WDIVX</td>\n",
       "      <td>12.81</td>\n",
       "      <td>0.95</td>\n",
       "      <td>NaN</td>\n",
       "    </tr>\n",
       "    <tr>\n",
       "      <th>19937</th>\n",
       "      <td>Western Asset High Yield A2</td>\n",
       "      <td>WHAYX</td>\n",
       "      <td>7.96</td>\n",
       "      <td>0.95</td>\n",
       "      <td>NaN</td>\n",
       "    </tr>\n",
       "    <tr>\n",
       "      <th>19943</th>\n",
       "      <td>Ivy High Income A</td>\n",
       "      <td>WHIAX</td>\n",
       "      <td>7.06</td>\n",
       "      <td>0.95</td>\n",
       "      <td>NaN</td>\n",
       "    </tr>\n",
       "    <tr>\n",
       "      <th>19945</th>\n",
       "      <td>Ivy High Income Y</td>\n",
       "      <td>WHIYX</td>\n",
       "      <td>7.06</td>\n",
       "      <td>0.95</td>\n",
       "      <td>NaN</td>\n",
       "    </tr>\n",
       "    <tr>\n",
       "      <th>19971</th>\n",
       "      <td>Wasatch Global Value Institutional</td>\n",
       "      <td>WILCX</td>\n",
       "      <td>7.91</td>\n",
       "      <td>0.95</td>\n",
       "      <td>NaN</td>\n",
       "    </tr>\n",
       "    <tr>\n",
       "      <th>19993</th>\n",
       "      <td>Wells Fargo Large Co Value A</td>\n",
       "      <td>WLCAX</td>\n",
       "      <td>13.34</td>\n",
       "      <td>0.95</td>\n",
       "      <td>NaN</td>\n",
       "    </tr>\n",
       "  </tbody>\n",
       "</table>\n",
       "<p>234 rows × 5 columns</p>\n",
       "</div>"
      ],
      "text/plain": [
       "                                 Fund Name Ticker  Net Asset Value  \\\n",
       "11              DWS RREEF Real Assets Inst  AAAZX            10.29   \n",
       "245     American Beacon CrescentShDrHiIn Y  ACHYX             9.33   \n",
       "255      American Century Intl Core Eqty I  ACIUX             8.82   \n",
       "502     AllianzGI Global Dynamic Alloc Adm  AGFAX            19.89   \n",
       "523                Invesco Income Investor  AGIVX             8.73   \n",
       "627       Voya MidCap Research Enh Index A  AIMAX            15.88   \n",
       "669         Akre Focus Supra Institutional  AKRSX            46.26   \n",
       "698                   Alger Focus Equity I  ALGRX            38.88   \n",
       "699           AB Limited Dur High Income A  ALHAX            10.34   \n",
       "702           AB Limited Dur High Income K  ALHKX            10.34   \n",
       "870          AllianzGI NFJ Intl Value Inst  ANJIX            18.67   \n",
       "942       Artisan International Value Inst  APHKX            35.46   \n",
       "971                    Appleseed Fund Inst  APPIX            12.87   \n",
       "1172     American Century Strateg Income A  ASIQX             9.97   \n",
       "1335     American Century Adaptive Eq Inst  AVDIX            10.19   \n",
       "1338                      Ave Maria Growth  AVEGX            37.77   \n",
       "1367       CIBC Atlas All Cap Growth Instl  AWGIX            31.07   \n",
       "1379         Invesco Global Core Equity R5  AWSIX            15.50   \n",
       "1384           AllianzGI Global Water Inst  AWTIX            16.70   \n",
       "1385              AllianzGI Global Water P  AWTPX            17.00   \n",
       "1386        CIBC Atlas Equity Income Instl  AWYIX            44.64   \n",
       "1406        AQR Emerging Defensive Style N  AZENX             9.42   \n",
       "1674        BlackRock US Government Bond R  BGBRX            10.60   \n",
       "1691       William Blair Global Leaders R6  BGGIX            14.66   \n",
       "1733             Madison Dividend Income Y  BHBFX            28.33   \n",
       "...                                    ...    ...              ...   \n",
       "17566           DWS Small Cap Growth Instl  SSDIX            30.01   \n",
       "17570               DWS Small Cap Growth S  SSDSX            29.55   \n",
       "17605    Sierra Tactical Core Income Instl  SSIRX            21.46   \n",
       "17658             Stralem Equity Fund Inst  STEFX             8.87   \n",
       "17785     SEI Inst Mgd Tr-US Managed Vol F  SVOAX            18.31   \n",
       "18178          TCW Relative Value Lg Cap N  TGDVX            19.19   \n",
       "18270         BNY Mellon Balanced Opport J  THPBX            23.36   \n",
       "18450       Transamerica Mid Cap Growth R4  TMIFX            10.88   \n",
       "18555         Touchstone Intl ESG Equity Y  TPYYX             8.97   \n",
       "18595     T. Rowe Price Global Real Est Fd  TRGRX            21.47   \n",
       "18793  T. Rowe Price US High Yield Advisor  TUHAX             9.88   \n",
       "18895   Templeton Global Balanced Fund Adv  TZINX             2.81   \n",
       "18963           Carillon Scout Small Cap I  UMBHX            29.04   \n",
       "19210       Invesco Small Cap Discovery R5  VESCX            10.56   \n",
       "19236    Victory NewBridge Lg Cap Growth I  VFGIX             6.38   \n",
       "19337            Virtus KAR Mid-Cap Core I  VIMCX            37.64   \n",
       "19709       Seven Canyons Strategic Income  WASIX            12.70   \n",
       "19737     American Funds Cap World Bond F1  WBFFX            20.22   \n",
       "19756       William Blair Mid Cap Growth I  WCGIX            12.60   \n",
       "19774     Westfield Capital Dividend Grw I  WDIVX            12.81   \n",
       "19937          Western Asset High Yield A2  WHAYX             7.96   \n",
       "19943                    Ivy High Income A  WHIAX             7.06   \n",
       "19945                    Ivy High Income Y  WHIYX             7.06   \n",
       "19971   Wasatch Global Value Institutional  WILCX             7.91   \n",
       "19993         Wells Fargo Large Co Value A  WLCAX            13.34   \n",
       "\n",
       "       Expense Ratio  Unnamed: 4  \n",
       "11              0.95         NaN  \n",
       "245             0.95         NaN  \n",
       "255             0.95         NaN  \n",
       "502             0.95         NaN  \n",
       "523             0.95         NaN  \n",
       "627             0.95         NaN  \n",
       "669             0.95         NaN  \n",
       "698             0.95         NaN  \n",
       "699             0.95         NaN  \n",
       "702             0.95         NaN  \n",
       "870             0.95         NaN  \n",
       "942             0.95         NaN  \n",
       "971             0.95         NaN  \n",
       "1172            0.95         NaN  \n",
       "1335            0.95         NaN  \n",
       "1338            0.95         NaN  \n",
       "1367            0.95         NaN  \n",
       "1379            0.95         NaN  \n",
       "1384            0.95         NaN  \n",
       "1385            0.95         NaN  \n",
       "1386            0.95         NaN  \n",
       "1406            0.95         NaN  \n",
       "1674            0.95         NaN  \n",
       "1691            0.95         NaN  \n",
       "1733            0.95         NaN  \n",
       "...              ...         ...  \n",
       "17566           0.95         NaN  \n",
       "17570           0.95         NaN  \n",
       "17605           0.95         NaN  \n",
       "17658           0.95         NaN  \n",
       "17785           0.95         NaN  \n",
       "18178           0.95         NaN  \n",
       "18270           0.95         NaN  \n",
       "18450           0.95         NaN  \n",
       "18555           0.95         NaN  \n",
       "18595           0.95         NaN  \n",
       "18793           0.95         NaN  \n",
       "18895           0.95         NaN  \n",
       "18963           0.95         NaN  \n",
       "19210           0.95         NaN  \n",
       "19236           0.95         NaN  \n",
       "19337           0.95         NaN  \n",
       "19709           0.95         NaN  \n",
       "19737           0.95         NaN  \n",
       "19756           0.95         NaN  \n",
       "19774           0.95         NaN  \n",
       "19937           0.95         NaN  \n",
       "19943           0.95         NaN  \n",
       "19945           0.95         NaN  \n",
       "19971           0.95         NaN  \n",
       "19993           0.95         NaN  \n",
       "\n",
       "[234 rows x 5 columns]"
      ]
     },
     "execution_count": 489,
     "metadata": {},
     "output_type": "execute_result"
    }
   ],
   "source": [
    "df[df['Expense Ratio'] == 0.950000]"
   ]
  },
  {
   "cell_type": "code",
   "execution_count": null,
   "metadata": {},
   "outputs": [],
   "source": []
  }
 ],
 "metadata": {
  "kernelspec": {
   "display_name": "Python 3",
   "language": "python",
   "name": "python3"
  },
  "language_info": {
   "codemirror_mode": {
    "name": "ipython",
    "version": 3
   },
   "file_extension": ".py",
   "mimetype": "text/x-python",
   "name": "python",
   "nbconvert_exporter": "python",
   "pygments_lexer": "ipython3",
   "version": "3.7.3"
  },
  "toc": {
   "base_numbering": 1,
   "nav_menu": {},
   "number_sections": true,
   "sideBar": true,
   "skip_h1_title": false,
   "title_cell": "Table of Contents",
   "title_sidebar": "Contents",
   "toc_cell": false,
   "toc_position": {
    "height": "calc(100% - 180px)",
    "left": "10px",
    "top": "150px",
    "width": "426.667px"
   },
   "toc_section_display": true,
   "toc_window_display": true
  }
 },
 "nbformat": 4,
 "nbformat_minor": 2
}
